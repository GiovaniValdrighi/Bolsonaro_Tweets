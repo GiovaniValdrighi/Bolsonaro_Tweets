{
 "cells": [
  {
   "cell_type": "markdown",
   "metadata": {},
   "source": [
    "# Coleta e preparação dos dados\n",
    "\n",
    "## Dados do Twitter\n",
    "\n",
    "A etapa inicial do projeto é a obtenção dos dados do Twitter, faremos a coleta dos dados, para isso utilizaremos de duas fontes, um conjunto de dados presente no Kraggle e um conjunto de dados obtido através da API do Twitter."
   ]
  },
  {
   "cell_type": "code",
   "execution_count": 2,
   "metadata": {},
   "outputs": [],
   "source": [
    "import pandas as pd\n",
    "#import tweepy as tw\n",
    "import pickle as pkl\n",
    "import getpass\n",
    "import time\n",
    "from tqdm import tqdm"
   ]
  },
  {
   "cell_type": "markdown",
   "metadata": {},
   "source": [
    "### Dados do Kraggle\n",
    "O conjunto de dados do Kraggle _Jair Bolsonaro Twitter Data_ apresenta uma coleção de 3 mil tweets do Bolsonaro."
   ]
  },
  {
   "cell_type": "code",
   "execution_count": 3,
   "metadata": {},
   "outputs": [
    {
     "data": {
      "text/html": [
       "<div>\n",
       "<style scoped>\n",
       "    .dataframe tbody tr th:only-of-type {\n",
       "        vertical-align: middle;\n",
       "    }\n",
       "\n",
       "    .dataframe tbody tr th {\n",
       "        vertical-align: top;\n",
       "    }\n",
       "\n",
       "    .dataframe thead th {\n",
       "        text-align: right;\n",
       "    }\n",
       "</style>\n",
       "<table border=\"1\" class=\"dataframe\">\n",
       "  <thead>\n",
       "    <tr style=\"text-align: right;\">\n",
       "      <th></th>\n",
       "      <th>date</th>\n",
       "      <th>text</th>\n",
       "      <th>likes</th>\n",
       "      <th>retweets</th>\n",
       "      <th>link</th>\n",
       "    </tr>\n",
       "  </thead>\n",
       "  <tbody>\n",
       "    <tr>\n",
       "      <th>0</th>\n",
       "      <td>2020-08-01</td>\n",
       "      <td>- Ministro @tarcisiogdf e os 160 anos da Infra...</td>\n",
       "      <td>880</td>\n",
       "      <td>163</td>\n",
       "      <td>https://twitter.com/jairbolsonaro/status/12895...</td>\n",
       "    </tr>\n",
       "    <tr>\n",
       "      <th>1</th>\n",
       "      <td>2020-08-01</td>\n",
       "      <td>- Coletiva com o prefeito de Bagé/RS, Divaldo ...</td>\n",
       "      <td>336</td>\n",
       "      <td>51</td>\n",
       "      <td>https://twitter.com/jairbolsonaro/status/12895...</td>\n",
       "    </tr>\n",
       "    <tr>\n",
       "      <th>2</th>\n",
       "      <td>2020-08-01</td>\n",
       "      <td>@rsallesmma 👍🏻</td>\n",
       "      <td>442</td>\n",
       "      <td>39</td>\n",
       "      <td>https://twitter.com/jairbolsonaro/status/12893...</td>\n",
       "    </tr>\n",
       "    <tr>\n",
       "      <th>3</th>\n",
       "      <td>2020-08-01</td>\n",
       "      <td>@Marceloscf2 @tarcisiogdf Seguimos! 🤝</td>\n",
       "      <td>164</td>\n",
       "      <td>22</td>\n",
       "      <td>https://twitter.com/jairbolsonaro/status/12893...</td>\n",
       "    </tr>\n",
       "    <tr>\n",
       "      <th>4</th>\n",
       "      <td>2020-08-01</td>\n",
       "      <td>@ItamaratyGovBr @USAID 👍🏻</td>\n",
       "      <td>223</td>\n",
       "      <td>24</td>\n",
       "      <td>https://twitter.com/jairbolsonaro/status/12893...</td>\n",
       "    </tr>\n",
       "  </tbody>\n",
       "</table>\n",
       "</div>"
      ],
      "text/plain": [
       "        date                                               text  likes  \\\n",
       "0 2020-08-01  - Ministro @tarcisiogdf e os 160 anos da Infra...    880   \n",
       "1 2020-08-01  - Coletiva com o prefeito de Bagé/RS, Divaldo ...    336   \n",
       "2 2020-08-01                                     @rsallesmma 👍🏻    442   \n",
       "3 2020-08-01              @Marceloscf2 @tarcisiogdf Seguimos! 🤝    164   \n",
       "4 2020-08-01                          @ItamaratyGovBr @USAID 👍🏻    223   \n",
       "\n",
       "   retweets                                               link  \n",
       "0       163  https://twitter.com/jairbolsonaro/status/12895...  \n",
       "1        51  https://twitter.com/jairbolsonaro/status/12895...  \n",
       "2        39  https://twitter.com/jairbolsonaro/status/12893...  \n",
       "3        22  https://twitter.com/jairbolsonaro/status/12893...  \n",
       "4        24  https://twitter.com/jairbolsonaro/status/12893...  "
      ]
     },
     "execution_count": 3,
     "metadata": {},
     "output_type": "execute_result"
    }
   ],
   "source": [
    "kraggle_data = pd.read_csv(\"..//data//tweets//bolsonaro_tweets.csv\")\n",
    "kraggle_data.date = pd.to_datetime(kraggle_data.date)\n",
    "kraggle_data.head()"
   ]
  },
  {
   "cell_type": "code",
   "execution_count": 6,
   "metadata": {},
   "outputs": [
    {
     "name": "stdout",
     "output_type": "stream",
     "text": [
      "O período de 9351 tweets é de 2010-04-01 até 2020-08-01.\n"
     ]
    }
   ],
   "source": [
    "print(\"O período de \" +  str(len(kraggle_data))+\" tweets é de \" +  str(kraggle_data.date.min())[0:10] +\" até \" +  str(kraggle_data.date.max())[0:10] + \".\")"
   ]
  },
  {
   "cell_type": "markdown",
   "metadata": {},
   "source": [
    "### Twitter API\n",
    "Nós também podemos obter dados sobre Jair Bolsonaro, Flávio Bolsonaro, Carlos Bolsonaro e Eduardo Bolsonaro da API do Twitter usando Tweepy. No entanto, o acesso é permitido apenas para os últimos 3200 tweets, dessa forma, não é o histórico completo de tweets."
   ]
  },
  {
   "cell_type": "code",
   "execution_count": 3,
   "metadata": {},
   "outputs": [
    {
     "name": "stdout",
     "output_type": "stream",
     "text": [
      "········\n"
     ]
    }
   ],
   "source": [
    "consumer_key = getpass.getpass()"
   ]
  },
  {
   "cell_type": "code",
   "execution_count": 4,
   "metadata": {},
   "outputs": [
    {
     "name": "stdout",
     "output_type": "stream",
     "text": [
      "········\n"
     ]
    }
   ],
   "source": [
    "consumer_secret = getpass.getpass()"
   ]
  },
  {
   "cell_type": "code",
   "execution_count": 5,
   "metadata": {},
   "outputs": [
    {
     "name": "stdout",
     "output_type": "stream",
     "text": [
      "········\n"
     ]
    }
   ],
   "source": [
    "access_token = getpass.getpass()"
   ]
  },
  {
   "cell_type": "code",
   "execution_count": 6,
   "metadata": {},
   "outputs": [
    {
     "name": "stdout",
     "output_type": "stream",
     "text": [
      "········\n"
     ]
    }
   ],
   "source": [
    "access_token_secret = getpass.getpass()"
   ]
  },
  {
   "cell_type": "code",
   "execution_count": 7,
   "metadata": {},
   "outputs": [],
   "source": [
    "auth = tw.OAuthHandler(consumer_key, consumer_secret)\n",
    "auth.set_access_token(access_token, access_token_secret)\n",
    "api = tw.API(auth, wait_on_rate_limit=True)"
   ]
  },
  {
   "cell_type": "code",
   "execution_count": 20,
   "metadata": {},
   "outputs": [],
   "source": [
    "#requesting data from twitter\n",
    "twitter_data = {}\n",
    "for user in ['jairbolsonaro', 'bolsonarosp', 'flaviobolsonaro', 'carlosbolsonaro']:\n",
    "    twitter_data[user] = [tweet for tweet in tw.Cursor(api.user_timeline,id=user, tweet_mode =\"extended\").items()]"
   ]
  },
  {
   "cell_type": "code",
   "execution_count": 22,
   "metadata": {},
   "outputs": [],
   "source": [
    "#saving original data\n",
    "with open(\"..//data//tweets//brute_scrapping,pkl\", \"wb+\") as f:\n",
    "    pkl.dump(twitter_data, f)"
   ]
  },
  {
   "cell_type": "code",
   "execution_count": 36,
   "metadata": {},
   "outputs": [
    {
     "data": {
      "text/html": [
       "<div>\n",
       "<style scoped>\n",
       "    .dataframe tbody tr th:only-of-type {\n",
       "        vertical-align: middle;\n",
       "    }\n",
       "\n",
       "    .dataframe tbody tr th {\n",
       "        vertical-align: top;\n",
       "    }\n",
       "\n",
       "    .dataframe thead th {\n",
       "        text-align: right;\n",
       "    }\n",
       "</style>\n",
       "<table border=\"1\" class=\"dataframe\">\n",
       "  <thead>\n",
       "    <tr style=\"text-align: right;\">\n",
       "      <th></th>\n",
       "      <th>name</th>\n",
       "      <th>text</th>\n",
       "      <th>date</th>\n",
       "      <th>place</th>\n",
       "      <th>retweets</th>\n",
       "      <th>favorites</th>\n",
       "    </tr>\n",
       "  </thead>\n",
       "  <tbody>\n",
       "    <tr>\n",
       "      <th>0</th>\n",
       "      <td>jairbolsonaro</td>\n",
       "      <td>-Edifício Joelma/SP, 1974.\\n\\n-Sgt CASSANIGA s...</td>\n",
       "      <td>2020-07-27 20:51:13+00:00</td>\n",
       "      <td>None</td>\n",
       "      <td>3154</td>\n",
       "      <td>16202</td>\n",
       "    </tr>\n",
       "    <tr>\n",
       "      <th>1</th>\n",
       "      <td>jairbolsonaro</td>\n",
       "      <td>- Água para quem tem sede.\\n- Liberdade para u...</td>\n",
       "      <td>2020-07-27 11:10:36+00:00</td>\n",
       "      <td>None</td>\n",
       "      <td>8101</td>\n",
       "      <td>37357</td>\n",
       "    </tr>\n",
       "    <tr>\n",
       "      <th>2</th>\n",
       "      <td>jairbolsonaro</td>\n",
       "      <td>@tarcisiogdf @MInfraestrutura 🤝🇧🇷, Ministro!</td>\n",
       "      <td>2020-07-26 20:18:19+00:00</td>\n",
       "      <td>None</td>\n",
       "      <td>1074</td>\n",
       "      <td>16840</td>\n",
       "    </tr>\n",
       "    <tr>\n",
       "      <th>3</th>\n",
       "      <td>jairbolsonaro</td>\n",
       "      <td>2- @MinEconomia @MinCidadania @onyxlorenzoni @...</td>\n",
       "      <td>2020-07-26 15:40:39+00:00</td>\n",
       "      <td>None</td>\n",
       "      <td>1337</td>\n",
       "      <td>6383</td>\n",
       "    </tr>\n",
       "    <tr>\n",
       "      <th>4</th>\n",
       "      <td>jairbolsonaro</td>\n",
       "      <td>1- Acompanhe as redes sociais! @secomvc @fabio...</td>\n",
       "      <td>2020-07-26 15:39:47+00:00</td>\n",
       "      <td>None</td>\n",
       "      <td>3287</td>\n",
       "      <td>14836</td>\n",
       "    </tr>\n",
       "  </tbody>\n",
       "</table>\n",
       "</div>"
      ],
      "text/plain": [
       "            name                                               text  \\\n",
       "0  jairbolsonaro  -Edifício Joelma/SP, 1974.\\n\\n-Sgt CASSANIGA s...   \n",
       "1  jairbolsonaro  - Água para quem tem sede.\\n- Liberdade para u...   \n",
       "2  jairbolsonaro       @tarcisiogdf @MInfraestrutura 🤝🇧🇷, Ministro!   \n",
       "3  jairbolsonaro  2- @MinEconomia @MinCidadania @onyxlorenzoni @...   \n",
       "4  jairbolsonaro  1- Acompanhe as redes sociais! @secomvc @fabio...   \n",
       "\n",
       "                       date place  retweets  favorites  \n",
       "0 2020-07-27 20:51:13+00:00  None      3154      16202  \n",
       "1 2020-07-27 11:10:36+00:00  None      8101      37357  \n",
       "2 2020-07-26 20:18:19+00:00  None      1074      16840  \n",
       "3 2020-07-26 15:40:39+00:00  None      1337       6383  \n",
       "4 2020-07-26 15:39:47+00:00  None      3287      14836  "
      ]
     },
     "execution_count": 36,
     "metadata": {},
     "output_type": "execute_result"
    }
   ],
   "source": [
    "#script to create a dataframe from the data\n",
    "date = []\n",
    "text = []\n",
    "user_name = []\n",
    "place = []\n",
    "retweets = []\n",
    "favorites = []\n",
    "for user in ['jairbolsonaro', 'bolsonarosp', 'flaviobolsonaro', 'carlosbolsonaro']:\n",
    "    for tweet in twitter_data[user]:\n",
    "        date.append(tweet._json['created_at'])\n",
    "        text.append(tweet._json['full_text'])\n",
    "        user_name.append(user)\n",
    "        place.append(tweet._json['place'])\n",
    "        retweets.append(tweet._json['retweet_count'])\n",
    "        favorites.append(tweet._json['favorite_count'])\n",
    "API_data = pd.DataFrame({'name': user_name, 'text': text, 'date': pd.to_datetime(date), \n",
    "                         'place': place, 'retweets': retweets, 'favorites':favorites})\n",
    "API_data.head()"
   ]
  },
  {
   "cell_type": "code",
   "execution_count": 51,
   "metadata": {},
   "outputs": [],
   "source": [
    "API_data.to_csv('..API_data.csv', sep = \"~\")"
   ]
  },
  {
   "cell_type": "markdown",
   "metadata": {},
   "source": [
    "## Dados econômicos\n",
    "\n",
    "Nós vamos coletar os dados do BACEN (Banco Central do Brasil) usando sua API. Nós vamos utilizar as séries temporais de alguns importantes indicadores econômicos como GDP, IPCA, NPCC. O código presente neste notebook é baseado no vídeo de __Código Quant - Finanças Quantitativas__: [COMO ACESSAR A BASE DE DADOS DO BANCO CENTRAL DO BRASIL COM PYTHON | Python para Investimentos #10](https://www.youtube.com/watch?v=7rFsu48oBn8)."
   ]
  },
  {
   "cell_type": "code",
   "execution_count": 4,
   "metadata": {},
   "outputs": [],
   "source": [
    "def query_bc(code):\n",
    "    url = 'http://api.bcb.gov.br/dados/serie/bcdata.sgs.{}/dados?formato=json'.format(code)\n",
    "    df = pd.read_json(url)\n",
    "    df['data'] = pd.to_datetime(df['data'], dayfirst=True)\n",
    "    df.set_index('data', inplace=True)\n",
    "    return df"
   ]
  },
  {
   "cell_type": "markdown",
   "metadata": {},
   "source": [
    "As séries temporais escolhidas para compor o nosso conjunto de dados estão listadas abaixo, tabmém está listado sua unidade e o instituto que publica o indicador:\n",
    "\n",
    "- IPCA : Índice nacional de preços ao consumidor-amplo, Var. % mensal, (IBGE). Este índice mede a variação de preços de mercado para o consumidor final e é utilizado para medir a inflação.\n",
    "- INPC: Índice nacional de preços ao consumidor, Var. % mensal, (IBGE). Este índice mede a variação de preços da cesta de consumo da população assalariada com mais baixo rendimento.\n",
    "- IGP-M : Índice geral de preços do mercado, Var. % mensal, (FGV). Este índice mede a variação de preços através de outros índices, do IPCA, INCC, e IPC.\n",
    "- Meta SELIC : Taxa básica de juros definida pelo Copom, % a.a., (Copom).\n",
    "- CDI : Taxa de juros, % a.d., (Cetip). Taxa de juros para empréstimo entre bancos.\n",
    "- PIB : Produto Interno Bruto mensal, R\\$ (milhões), (BCB-Depec). \n",
    "- Dólar: Taxa de câmbio - Dólar americano (venda), u.m.c/US\\$, (Sisbacen PTAX800).\n",
    "- Dívida pública: Dívida líquida do Setor Público (%PIB) - Total, %, (BSB - DSTAT).\n",
    "- Reserva Internacional: Reserva internacional total diária, US\\$ (milhões), (BCB - DSTAT). \n",
    "- Índice de emprego formal, (Mtb).\n",
    "- PNADC: Taxa de desocupação, %, (IBGE). \n",
    "- Índice de confiança do consumidor, (Fecomercio)."
   ]
  },
  {
   "cell_type": "code",
   "execution_count": 9,
   "metadata": {},
   "outputs": [
    {
     "name": "stderr",
     "output_type": "stream",
     "text": [
      "100%|██████████████████████████████████████████████████████████████████████████████████| 13/13 [00:33<00:00,  2.59s/it]\n"
     ]
    }
   ],
   "source": [
    "index_dict = {\"ipca\": 433,  \"igpm\": 189, \"inpc\": 188, \"selic_meta\": 432,\n",
    "              \"international_reserve\": 13621, \"pnad \": 24369,  \"cdi\" : 12,\n",
    "              \"gdp\": 4385, \"dollar\": 1, \"employment\": 25239, \"gov_debt\": 4503,\n",
    "              \"consumer_confidence\": 4393, \"ibovespa\": 7832}\n",
    "series_list = []\n",
    "for (key, value) in tqdm(index_dict.items()):\n",
    "    serie = query_bc(value)\n",
    "    serie.to_csv(\"..\\\\data\\\\economic_data\\\\\"+key+\".csv\", sep = \";\")\n",
    "    series_list.append(serie)\n",
    "    time.sleep(2)"
   ]
  },
  {
   "cell_type": "markdown",
   "metadata": {},
   "source": [
    "Vamos gerar um _dataframe_ final incluindo todas as séries temporais econômicas, note que existirão células vazias pois os indicadores econômicos apresentam frequências diferentes, podem ser diários, mensais, trimestrais ou anuais, e também os indicadores começaram a ser utilizados em momentos distintos na história."
   ]
  },
  {
   "cell_type": "code",
   "execution_count": 12,
   "metadata": {},
   "outputs": [],
   "source": [
    "from functools import reduce\n",
    "economic_time_series = reduce(lambda x, y: pd.merge(x, y, left_index = True, right_index = True, how = 'outer'), series_list)\n",
    "economic_time_series.columns = [\"ipca\", \"igpm\", \"inpc\", \"selic_meta\", \"international_reserve\",\n",
    "                                      \"pnad\", \"cdi\", \"gdp\", \"dollar\", \"employment\", \"gov_debt\", \"consumer_confidence\", \"ibovespa\"]\n",
    "economic_time_series.to_csv(\"..\\\\data\\\\economic_data\\\\economic_time_series.csv\", sep = \";\")"
   ]
  }
 ],
 "metadata": {
  "kernelspec": {
   "display_name": "Python 3",
   "language": "python",
   "name": "python3"
  },
  "language_info": {
   "codemirror_mode": {
    "name": "ipython",
    "version": 3
   },
   "file_extension": ".py",
   "mimetype": "text/x-python",
   "name": "python",
   "nbconvert_exporter": "python",
   "pygments_lexer": "ipython3",
   "version": "3.8.3"
  }
 },
 "nbformat": 4,
 "nbformat_minor": 4
}
