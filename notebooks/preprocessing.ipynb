{
 "cells": [
  {
   "cell_type": "markdown",
   "metadata": {},
   "source": [
    "# Pré-processamento dos dados\n",
    "\n",
    "Nessa etapa, iremos realizar o pré-processamento dos dados para apresenta-los em um resultado adequado para a análise exploratória dos dados e em sequência para o desenvolvimento de modelos. É necessário selecionar as informações úteis obtidas dos tweets e organaliza-las em um _dataframe_ do _Pandas_."
   ]
  },
  {
   "cell_type": "code",
   "execution_count": 3,
   "metadata": {},
   "outputs": [],
   "source": [
    "import pandas as pd\n",
    "import pickle as pkl\n",
    "import tweepy as tw"
   ]
  },
  {
   "cell_type": "markdown",
   "metadata": {},
   "source": [
    "## Preparado os dados obtidos através da API do Twitter\n",
    "\n",
    "As informações selecionadas para compor o conjunto de dados processado serão as seguintes (e os nomes presente no _dataframe_):\n",
    "\n",
    "- Nome do ususário que postou o tweet (name).\n",
    "- Data de criação do tweet (created_at).\n",
    "- Texto completo do tweet (full_text).\n",
    "- Hashtags presentes no tweet (hashtags).\n",
    "- Menções a usuários presentes no tweet (user_mentions).\n",
    "- Tipo de mídia presente no tweet, se há mídia (media_type).\n",
    "- Se o tweet é um reply (status_reply).\n",
    "- Número de retweets que o tweet recebeu (retweet_count).\n",
    "- Núméro de likes que o tweet recebeu (favorite_count)."
   ]
  },
  {
   "cell_type": "code",
   "execution_count": 4,
   "metadata": {},
   "outputs": [],
   "source": [
    "#opening API resulted data\n",
    "with open('..//data//tweets//brute_scrapping.pkl', 'rb') as f:\n",
    "    tweets_data = pkl.load(f)"
   ]
  },
  {
   "cell_type": "code",
   "execution_count": 5,
   "metadata": {},
   "outputs": [],
   "source": [
    "#create dataframe from tweets data\n",
    "#going to use the following information from tweets:\n",
    "#### created_at : date of post\n",
    "#### full_text: tweet text\n",
    "#### hashtags: all hashtags in the tweet\n",
    "#### user_mentions: all mentions in the tweet\n",
    "#### media_type: type of the media in the tweet, if there is media\n",
    "#### status_reply: if the tweet is a reply to a status\n",
    "#### name: username @\n",
    "#### retweet_count: number of retweets\n",
    "#### favorite_count: number of retweets\n",
    "tweets_dict = {}\n",
    "columns_list = ['created_at', 'full_text', 'hashtags', 'user_mentions', 'media_type', \n",
    "                'status_reply','name', 'retweet_count', 'favorite_count'] \n",
    "for var in columns_list:\n",
    "    tweets_dict[var] = []\n",
    "\n",
    "for user in ['jairbolsonaro', 'bolsonarosp', 'flaviobolsonaro', 'carlosbolsonaro']:\n",
    "    for tweet in tweets_data[user]:\n",
    "        for var in columns_list:\n",
    "            if var == 'hashtags':\n",
    "                aux = '/'.join([u['text'] for u in tweet._json['entities'][var]])\n",
    "                if aux == \"\":\n",
    "                    tweets_dict[var].append(\"None\")\n",
    "                else:\n",
    "                    tweets_dict[var].append(aux)\n",
    "            elif var == \"user_mentions\":\n",
    "                aux = '/'.join([u['screen_name'] for u in tweet._json['entities'][var]])\n",
    "                if aux== \"\":\n",
    "                    tweets_dict[var].append(\"None\")\n",
    "                else:\n",
    "                    tweets_dict[var].append(aux)\n",
    "            elif var == \"status_reply\":\n",
    "                tweets_dict[var].append(1 if tweet._json['in_reply_to_status_id'] != None else 0)\n",
    "            elif var == \"name\":\n",
    "                tweets_dict[var].append(user)\n",
    "            elif var == \"media_type\":\n",
    "                if 'media' in list(tweet._json['entities'].keys()):\n",
    "                    tweets_dict[var].append(tweet._json['extended_entities']['media'][0]['type'])\n",
    "                else:\n",
    "                    tweets_dict[var].append(None)\n",
    "            else:\n",
    "                tweets_dict[var].append(tweet._json[var])\n",
    "tweets_df = pd.DataFrame(tweets_dict)"
   ]
  },
  {
   "cell_type": "markdown",
   "metadata": {},
   "source": [
    "Em seguida, iremos criar variáveis extras a partir da variável da data de postagem do tweet, que serão as seguintes:\n",
    "\n",
    "- Ano de postagem (year).\n",
    "- Mês de postagem (month).\n",
    "- Dia de postagem (day).\n",
    "- Hora de postagem (hour).\n",
    "- Minuto de postagem (minute).\n",
    "- Dia da semana de postagem (weekday).\n",
    "\n",
    "Essas variáveis auxiliarão para o processo de modelagem. Além delas, iremos criar variáveis indicadoras, que serão:\n",
    "\n",
    "- Se o tweet possui hashtags (has_hashtags).\n",
    "- Se o tweet possui menções (has_mentions).\n",
    "- Se o tweet possui alguma mídia (has_midia)."
   ]
  },
  {
   "cell_type": "code",
   "execution_count": 6,
   "metadata": {},
   "outputs": [],
   "source": [
    "tweets_df['date'] = pd.to_datetime(tweets_df.created_at)\n",
    "tweets_df['year'] = tweets_df.date.apply(lambda x : x.year)\n",
    "tweets_df['month'] = tweets_df.date.apply(lambda x : x.month)\n",
    "tweets_df['day'] = tweets_df.date.apply(lambda x : x.day)\n",
    "tweets_df['hour'] = tweets_df.date.apply(lambda x : x.hour)\n",
    "tweets_df['minute'] = tweets_df.date.apply(lambda x : x.minute)\n",
    "tweets_df['weekday'] = tweets_df.date.apply(lambda x : x.weekday)\n",
    "tweets_df['has_hashtags'] = tweets_df.hashtags.apply(lambda x : 1 if x != \"None\" else 0)\n",
    "tweets_df['has_mentions'] = tweets_df.user_mentions.apply(lambda x : 1 if x != \"None\" else 0)\n",
    "tweets_df['has_media'] = tweets_df.media_type.apply(lambda x : 1 if x != \"None\" else 0)\n",
    "tweets_df.drop(columns = ['created_at'], inplace = True)"
   ]
  },
  {
   "cell_type": "code",
   "execution_count": 8,
   "metadata": {},
   "outputs": [],
   "source": [
    "tweets_df.to_csv(\"..\\\\data\\\\tweets\\\\preprocessed_tweets.csv\", sep = \"~\")"
   ]
  }
 ],
 "metadata": {
  "kernelspec": {
   "display_name": "Python 3",
   "language": "python",
   "name": "python3"
  },
  "language_info": {
   "codemirror_mode": {
    "name": "ipython",
    "version": 3
   },
   "file_extension": ".py",
   "mimetype": "text/x-python",
   "name": "python",
   "nbconvert_exporter": "python",
   "pygments_lexer": "ipython3",
   "version": "3.8.3"
  }
 },
 "nbformat": 4,
 "nbformat_minor": 4
}
