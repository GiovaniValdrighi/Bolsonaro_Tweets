{
 "cells": [
  {
   "cell_type": "markdown",
   "metadata": {},
   "source": [
    "# Modelagem de Tópicos\n",
    "\n",
    "São poucas as quantidades de modelos que podemos aplicar na maneira que os nossos dados se encontram neste exato momento. Com isso, para que tenhamos mais variáveis quantitativas que ajudam na análise, o intuito é dividir os tweets da família Bolsonaro em tópicos."
   ]
  },
  {
   "cell_type": "code",
   "execution_count": 1,
   "metadata": {},
   "outputs": [],
   "source": [
    "from sklearn.feature_extraction import text \n",
    "import pandas as pd\n",
    "import numpy as np\n",
    "import re\n",
    "import string\n",
    "import unicodedata\n",
    "from gensim import matutils, models\n",
    "import scipy.sparse\n",
    "import nltk\n",
    "import textblob\n",
    "from googletrans import Translator\n",
    "from tqdm import tqdm\n",
    "import matplotlib.pyplot as plt\n",
    "import time"
   ]
  },
  {
   "cell_type": "markdown",
   "metadata": {},
   "source": [
    "Como vamos usar diversos recursos do nltk, vale a pena baixar todo seu conteúdo (uma aba vai abrir e é só clicar em baixar tudo):"
   ]
  },
  {
   "cell_type": "code",
   "execution_count": 2,
   "metadata": {},
   "outputs": [],
   "source": [
    "#nltk.download()"
   ]
  },
  {
   "cell_type": "markdown",
   "metadata": {},
   "source": [
    "## Gerando a Document Term Matrix\n",
    "\n",
    "Usando as stop words em português obtidas no site https://gist.github.com/alopes/5358189, podemos limpar nossos textos dos tweets de modo a transformá-los em uma Document Term Matrix."
   ]
  },
  {
   "cell_type": "code",
   "execution_count": 3,
   "metadata": {
    "scrolled": false
   },
   "outputs": [
    {
     "data": {
      "text/html": [
       "<div>\n",
       "<style scoped>\n",
       "    .dataframe tbody tr th:only-of-type {\n",
       "        vertical-align: middle;\n",
       "    }\n",
       "\n",
       "    .dataframe tbody tr th {\n",
       "        vertical-align: top;\n",
       "    }\n",
       "\n",
       "    .dataframe thead th {\n",
       "        text-align: right;\n",
       "    }\n",
       "</style>\n",
       "<table border=\"1\" class=\"dataframe\">\n",
       "  <thead>\n",
       "    <tr style=\"text-align: right;\">\n",
       "      <th></th>\n",
       "      <th>full_text</th>\n",
       "      <th>hashtags</th>\n",
       "      <th>user_mentions</th>\n",
       "      <th>media_type</th>\n",
       "      <th>status_reply</th>\n",
       "      <th>name</th>\n",
       "      <th>retweet_count</th>\n",
       "      <th>favorite_count</th>\n",
       "      <th>year</th>\n",
       "      <th>month</th>\n",
       "      <th>day</th>\n",
       "      <th>hour</th>\n",
       "      <th>minute</th>\n",
       "      <th>weekday</th>\n",
       "      <th>has_hashtags</th>\n",
       "      <th>has_mentions</th>\n",
       "      <th>has_media</th>\n",
       "    </tr>\n",
       "    <tr>\n",
       "      <th>date</th>\n",
       "      <th></th>\n",
       "      <th></th>\n",
       "      <th></th>\n",
       "      <th></th>\n",
       "      <th></th>\n",
       "      <th></th>\n",
       "      <th></th>\n",
       "      <th></th>\n",
       "      <th></th>\n",
       "      <th></th>\n",
       "      <th></th>\n",
       "      <th></th>\n",
       "      <th></th>\n",
       "      <th></th>\n",
       "      <th></th>\n",
       "      <th></th>\n",
       "      <th></th>\n",
       "    </tr>\n",
       "  </thead>\n",
       "  <tbody>\n",
       "    <tr>\n",
       "      <th>2020-07-27 20:51:13+00:00</th>\n",
       "      <td>-Edifício Joelma/SP, 1974.\\n\\n-Sgt CASSANIGA s...</td>\n",
       "      <td>None</td>\n",
       "      <td>None</td>\n",
       "      <td>video</td>\n",
       "      <td>0</td>\n",
       "      <td>jairbolsonaro</td>\n",
       "      <td>3154</td>\n",
       "      <td>16202</td>\n",
       "      <td>2020</td>\n",
       "      <td>7</td>\n",
       "      <td>27</td>\n",
       "      <td>20</td>\n",
       "      <td>51</td>\n",
       "      <td>0</td>\n",
       "      <td>0</td>\n",
       "      <td>0</td>\n",
       "      <td>1</td>\n",
       "    </tr>\n",
       "    <tr>\n",
       "      <th>2020-07-27 11:10:36+00:00</th>\n",
       "      <td>- Água para quem tem sede.\\n- Liberdade para u...</td>\n",
       "      <td>None</td>\n",
       "      <td>None</td>\n",
       "      <td>video</td>\n",
       "      <td>0</td>\n",
       "      <td>jairbolsonaro</td>\n",
       "      <td>8101</td>\n",
       "      <td>37357</td>\n",
       "      <td>2020</td>\n",
       "      <td>7</td>\n",
       "      <td>27</td>\n",
       "      <td>11</td>\n",
       "      <td>10</td>\n",
       "      <td>0</td>\n",
       "      <td>0</td>\n",
       "      <td>0</td>\n",
       "      <td>1</td>\n",
       "    </tr>\n",
       "    <tr>\n",
       "      <th>2020-07-26 20:18:19+00:00</th>\n",
       "      <td>@tarcisiogdf @MInfraestrutura 🤝🇧🇷, Ministro!</td>\n",
       "      <td>None</td>\n",
       "      <td>tarcisiogdf/MInfraestrutura</td>\n",
       "      <td>NaN</td>\n",
       "      <td>1</td>\n",
       "      <td>jairbolsonaro</td>\n",
       "      <td>1074</td>\n",
       "      <td>16840</td>\n",
       "      <td>2020</td>\n",
       "      <td>7</td>\n",
       "      <td>26</td>\n",
       "      <td>20</td>\n",
       "      <td>18</td>\n",
       "      <td>6</td>\n",
       "      <td>0</td>\n",
       "      <td>1</td>\n",
       "      <td>1</td>\n",
       "    </tr>\n",
       "    <tr>\n",
       "      <th>2020-07-26 15:40:39+00:00</th>\n",
       "      <td>2- @MinEconomia @MinCidadania @onyxlorenzoni @...</td>\n",
       "      <td>None</td>\n",
       "      <td>MinEconomia/MinCidadania/onyxlorenzoni/MEC_Com...</td>\n",
       "      <td>photo</td>\n",
       "      <td>1</td>\n",
       "      <td>jairbolsonaro</td>\n",
       "      <td>1337</td>\n",
       "      <td>6383</td>\n",
       "      <td>2020</td>\n",
       "      <td>7</td>\n",
       "      <td>26</td>\n",
       "      <td>15</td>\n",
       "      <td>40</td>\n",
       "      <td>6</td>\n",
       "      <td>0</td>\n",
       "      <td>1</td>\n",
       "      <td>1</td>\n",
       "    </tr>\n",
       "    <tr>\n",
       "      <th>2020-07-26 15:39:47+00:00</th>\n",
       "      <td>1- Acompanhe as redes sociais! @secomvc @fabio...</td>\n",
       "      <td>None</td>\n",
       "      <td>secomvc/fabiofaria5555/tarcisiogdf/MInfraestru...</td>\n",
       "      <td>photo</td>\n",
       "      <td>0</td>\n",
       "      <td>jairbolsonaro</td>\n",
       "      <td>3287</td>\n",
       "      <td>14836</td>\n",
       "      <td>2020</td>\n",
       "      <td>7</td>\n",
       "      <td>26</td>\n",
       "      <td>15</td>\n",
       "      <td>39</td>\n",
       "      <td>6</td>\n",
       "      <td>0</td>\n",
       "      <td>1</td>\n",
       "      <td>1</td>\n",
       "    </tr>\n",
       "  </tbody>\n",
       "</table>\n",
       "</div>"
      ],
      "text/plain": [
       "                                                                   full_text  \\\n",
       "date                                                                           \n",
       "2020-07-27 20:51:13+00:00  -Edifício Joelma/SP, 1974.\\n\\n-Sgt CASSANIGA s...   \n",
       "2020-07-27 11:10:36+00:00  - Água para quem tem sede.\\n- Liberdade para u...   \n",
       "2020-07-26 20:18:19+00:00       @tarcisiogdf @MInfraestrutura 🤝🇧🇷, Ministro!   \n",
       "2020-07-26 15:40:39+00:00  2- @MinEconomia @MinCidadania @onyxlorenzoni @...   \n",
       "2020-07-26 15:39:47+00:00  1- Acompanhe as redes sociais! @secomvc @fabio...   \n",
       "\n",
       "                          hashtags  \\\n",
       "date                                 \n",
       "2020-07-27 20:51:13+00:00     None   \n",
       "2020-07-27 11:10:36+00:00     None   \n",
       "2020-07-26 20:18:19+00:00     None   \n",
       "2020-07-26 15:40:39+00:00     None   \n",
       "2020-07-26 15:39:47+00:00     None   \n",
       "\n",
       "                                                               user_mentions  \\\n",
       "date                                                                           \n",
       "2020-07-27 20:51:13+00:00                                               None   \n",
       "2020-07-27 11:10:36+00:00                                               None   \n",
       "2020-07-26 20:18:19+00:00                        tarcisiogdf/MInfraestrutura   \n",
       "2020-07-26 15:40:39+00:00  MinEconomia/MinCidadania/onyxlorenzoni/MEC_Com...   \n",
       "2020-07-26 15:39:47+00:00  secomvc/fabiofaria5555/tarcisiogdf/MInfraestru...   \n",
       "\n",
       "                          media_type  status_reply           name  \\\n",
       "date                                                                \n",
       "2020-07-27 20:51:13+00:00      video             0  jairbolsonaro   \n",
       "2020-07-27 11:10:36+00:00      video             0  jairbolsonaro   \n",
       "2020-07-26 20:18:19+00:00        NaN             1  jairbolsonaro   \n",
       "2020-07-26 15:40:39+00:00      photo             1  jairbolsonaro   \n",
       "2020-07-26 15:39:47+00:00      photo             0  jairbolsonaro   \n",
       "\n",
       "                           retweet_count  favorite_count  year  month  day  \\\n",
       "date                                                                         \n",
       "2020-07-27 20:51:13+00:00           3154           16202  2020      7   27   \n",
       "2020-07-27 11:10:36+00:00           8101           37357  2020      7   27   \n",
       "2020-07-26 20:18:19+00:00           1074           16840  2020      7   26   \n",
       "2020-07-26 15:40:39+00:00           1337            6383  2020      7   26   \n",
       "2020-07-26 15:39:47+00:00           3287           14836  2020      7   26   \n",
       "\n",
       "                           hour  minute  weekday  has_hashtags  has_mentions  \\\n",
       "date                                                                           \n",
       "2020-07-27 20:51:13+00:00    20      51        0             0             0   \n",
       "2020-07-27 11:10:36+00:00    11      10        0             0             0   \n",
       "2020-07-26 20:18:19+00:00    20      18        6             0             1   \n",
       "2020-07-26 15:40:39+00:00    15      40        6             0             1   \n",
       "2020-07-26 15:39:47+00:00    15      39        6             0             1   \n",
       "\n",
       "                           has_media  \n",
       "date                                  \n",
       "2020-07-27 20:51:13+00:00          1  \n",
       "2020-07-27 11:10:36+00:00          1  \n",
       "2020-07-26 20:18:19+00:00          1  \n",
       "2020-07-26 15:40:39+00:00          1  \n",
       "2020-07-26 15:39:47+00:00          1  "
      ]
     },
     "execution_count": 3,
     "metadata": {},
     "output_type": "execute_result"
    }
   ],
   "source": [
    "dfOri = pd.read_csv(\"../../data/tweets/preprocessed_tweets.csv\", sep = \"~\")\n",
    "tweeys_data = dfOri.drop(columns=['Unnamed: 0'])\n",
    "tweeys_data[\"date\"] = pd.to_datetime(tweeys_data[\"date\"])\n",
    "tweeys_data.set_index(\"date\", inplace=True)\n",
    "tweeys_data.head()"
   ]
  },
  {
   "cell_type": "code",
   "execution_count": 4,
   "metadata": {
    "scrolled": true
   },
   "outputs": [
    {
     "data": {
      "text/html": [
       "<div>\n",
       "<style scoped>\n",
       "    .dataframe tbody tr th:only-of-type {\n",
       "        vertical-align: middle;\n",
       "    }\n",
       "\n",
       "    .dataframe tbody tr th {\n",
       "        vertical-align: top;\n",
       "    }\n",
       "\n",
       "    .dataframe thead th {\n",
       "        text-align: right;\n",
       "    }\n",
       "</style>\n",
       "<table border=\"1\" class=\"dataframe\">\n",
       "  <thead>\n",
       "    <tr style=\"text-align: right;\">\n",
       "      <th></th>\n",
       "      <th>text</th>\n",
       "    </tr>\n",
       "  </thead>\n",
       "  <tbody>\n",
       "    <tr>\n",
       "      <th>0</th>\n",
       "      <td>-Edifício Joelma/SP, 1974.\\n\\n-Sgt CASSANIGA salta de helicóptero da FAB no terraço do edifício em chamas para salvar vidas, em uma das maiores tr...</td>\n",
       "    </tr>\n",
       "    <tr>\n",
       "      <th>1</th>\n",
       "      <td>- Água para quem tem sede.\\n- Liberdade para um povo. \\n- Brasil acima de tudo, Deus acima de todos!\\n- BOM DIA.\\n\\n. YouTube: https://t.co/eS5aHQ...</td>\n",
       "    </tr>\n",
       "    <tr>\n",
       "      <th>2</th>\n",
       "      <td>@tarcisiogdf @MInfraestrutura 🤝🇧🇷, Ministro!</td>\n",
       "    </tr>\n",
       "    <tr>\n",
       "      <th>3</th>\n",
       "      <td>2- @MinEconomia @MinCidadania @onyxlorenzoni @MEC_Comunicacao @ItamaratyGovBr @ernestofaraujo https://t.co/WVf6V7pqzC</td>\n",
       "    </tr>\n",
       "    <tr>\n",
       "      <th>4</th>\n",
       "      <td>1- Acompanhe as redes sociais! @secomvc @fabiofaria5555 @tarcisiogdf @MInfraestrutura @MinEconomia @minsaude @Mapa_Brasil @TerezaCrisMS @DHumanosB...</td>\n",
       "    </tr>\n",
       "  </tbody>\n",
       "</table>\n",
       "</div>"
      ],
      "text/plain": [
       "                                                                                                                                                    text\n",
       "0  -Edifício Joelma/SP, 1974.\\n\\n-Sgt CASSANIGA salta de helicóptero da FAB no terraço do edifício em chamas para salvar vidas, em uma das maiores tr...\n",
       "1  - Água para quem tem sede.\\n- Liberdade para um povo. \\n- Brasil acima de tudo, Deus acima de todos!\\n- BOM DIA.\\n\\n. YouTube: https://t.co/eS5aHQ...\n",
       "2                                                                                                           @tarcisiogdf @MInfraestrutura 🤝🇧🇷, Ministro!\n",
       "3                                  2- @MinEconomia @MinCidadania @onyxlorenzoni @MEC_Comunicacao @ItamaratyGovBr @ernestofaraujo https://t.co/WVf6V7pqzC\n",
       "4  1- Acompanhe as redes sociais! @secomvc @fabiofaria5555 @tarcisiogdf @MInfraestrutura @MinEconomia @minsaude @Mapa_Brasil @TerezaCrisMS @DHumanosB..."
      ]
     },
     "execution_count": 4,
     "metadata": {},
     "output_type": "execute_result"
    }
   ],
   "source": [
    "pd.set_option('max_colwidth',150)\n",
    "initial_data = pd.DataFrame(tweeys_data['full_text'].values,index=range(0,len(tweeys_data)),columns=['text'])\n",
    "initial_data.head()"
   ]
  },
  {
   "cell_type": "markdown",
   "metadata": {},
   "source": [
    "Limpando um pouco nosso texto de cada tweet:"
   ]
  },
  {
   "cell_type": "code",
   "execution_count": 5,
   "metadata": {},
   "outputs": [
    {
     "data": {
      "text/html": [
       "<div>\n",
       "<style scoped>\n",
       "    .dataframe tbody tr th:only-of-type {\n",
       "        vertical-align: middle;\n",
       "    }\n",
       "\n",
       "    .dataframe tbody tr th {\n",
       "        vertical-align: top;\n",
       "    }\n",
       "\n",
       "    .dataframe thead th {\n",
       "        text-align: right;\n",
       "    }\n",
       "</style>\n",
       "<table border=\"1\" class=\"dataframe\">\n",
       "  <thead>\n",
       "    <tr style=\"text-align: right;\">\n",
       "      <th></th>\n",
       "      <th>text</th>\n",
       "    </tr>\n",
       "  </thead>\n",
       "  <tbody>\n",
       "    <tr>\n",
       "      <th>0</th>\n",
       "      <td>edificio joelmasp 1974sgt cassaniga salta de helicoptero da fab no terraco do edificio em chamas para salvar vidas em uma das maiores tragedias na...</td>\n",
       "    </tr>\n",
       "    <tr>\n",
       "      <th>1</th>\n",
       "      <td>agua para quem tem sede liberdade para um povo  brasil acima de tudo deus acima de todos bom dia youtube</td>\n",
       "    </tr>\n",
       "    <tr>\n",
       "      <th>2</th>\n",
       "      <td>tarcisiogdf minfraestrutura  ministro</td>\n",
       "    </tr>\n",
       "    <tr>\n",
       "      <th>3</th>\n",
       "      <td>2 mineconomia mincidadania onyxlorenzoni meccomunicacao itamaratygovbr ernestofaraujo</td>\n",
       "    </tr>\n",
       "    <tr>\n",
       "      <th>4</th>\n",
       "      <td>1 acompanhe as redes sociais secomvc fabiofaria5555 tarcisiogdf minfraestrutura mineconomia minsaude mapabrasil terezacrisms dhumanosbrasil damare...</td>\n",
       "    </tr>\n",
       "  </tbody>\n",
       "</table>\n",
       "</div>"
      ],
      "text/plain": [
       "                                                                                                                                                    text\n",
       "0  edificio joelmasp 1974sgt cassaniga salta de helicoptero da fab no terraco do edificio em chamas para salvar vidas em uma das maiores tragedias na...\n",
       "1                                             agua para quem tem sede liberdade para um povo  brasil acima de tudo deus acima de todos bom dia youtube  \n",
       "2                                                                                                                  tarcisiogdf minfraestrutura  ministro\n",
       "3                                                                 2 mineconomia mincidadania onyxlorenzoni meccomunicacao itamaratygovbr ernestofaraujo \n",
       "4  1 acompanhe as redes sociais secomvc fabiofaria5555 tarcisiogdf minfraestrutura mineconomia minsaude mapabrasil terezacrisms dhumanosbrasil damare..."
      ]
     },
     "execution_count": 5,
     "metadata": {},
     "output_type": "execute_result"
    }
   ],
   "source": [
    "def clean_text(text):\n",
    "    text = text.lower() # texto minúsculo\n",
    "    text = re.sub('[^A-zÀ-ú0-9 ]', '', text) # manter alfanuméricos e espaço\n",
    "    #text = re.sub('\\w*\\d\\w*', '', text) # remover qualquer palavra que contenha numeros\n",
    "    text = re.sub('\\w*https?\\w*', '', text) # remover urls\n",
    "    text = ''.join(ch for ch in unicodedata.normalize('NFKD', text) \n",
    "        if not unicodedata.combining(ch))   # remover acentos\n",
    "    text = re.sub('[%s]' % re.escape(string.punctuation), '', text) # remover pontuações esquisitas\n",
    "    return text\n",
    "\n",
    "clean_data = pd.DataFrame(initial_data.text.apply(lambda x: clean_text(x)))\n",
    "clean_data.head()"
   ]
  },
  {
   "cell_type": "markdown",
   "metadata": {},
   "source": [
    "Criando a Document Term Matrix:"
   ]
  },
  {
   "cell_type": "code",
   "execution_count": 6,
   "metadata": {},
   "outputs": [
    {
     "data": {
      "text/html": [
       "<div>\n",
       "<style scoped>\n",
       "    .dataframe tbody tr th:only-of-type {\n",
       "        vertical-align: middle;\n",
       "    }\n",
       "\n",
       "    .dataframe tbody tr th {\n",
       "        vertical-align: top;\n",
       "    }\n",
       "\n",
       "    .dataframe thead th {\n",
       "        text-align: right;\n",
       "    }\n",
       "</style>\n",
       "<table border=\"1\" class=\"dataframe\">\n",
       "  <thead>\n",
       "    <tr style=\"text-align: right;\">\n",
       "      <th></th>\n",
       "      <th>0</th>\n",
       "      <th>1</th>\n",
       "      <th>2</th>\n",
       "      <th>3</th>\n",
       "      <th>4</th>\n",
       "      <th>5</th>\n",
       "      <th>6</th>\n",
       "      <th>7</th>\n",
       "      <th>8</th>\n",
       "      <th>9</th>\n",
       "      <th>...</th>\n",
       "      <th>12824</th>\n",
       "      <th>12825</th>\n",
       "      <th>12826</th>\n",
       "      <th>12827</th>\n",
       "      <th>12828</th>\n",
       "      <th>12829</th>\n",
       "      <th>12830</th>\n",
       "      <th>12831</th>\n",
       "      <th>12832</th>\n",
       "      <th>12833</th>\n",
       "    </tr>\n",
       "  </thead>\n",
       "  <tbody>\n",
       "    <tr>\n",
       "      <th>0001</th>\n",
       "      <td>0</td>\n",
       "      <td>0</td>\n",
       "      <td>0</td>\n",
       "      <td>0</td>\n",
       "      <td>0</td>\n",
       "      <td>0</td>\n",
       "      <td>0</td>\n",
       "      <td>0</td>\n",
       "      <td>0</td>\n",
       "      <td>0</td>\n",
       "      <td>...</td>\n",
       "      <td>0</td>\n",
       "      <td>0</td>\n",
       "      <td>0</td>\n",
       "      <td>0</td>\n",
       "      <td>0</td>\n",
       "      <td>0</td>\n",
       "      <td>0</td>\n",
       "      <td>0</td>\n",
       "      <td>0</td>\n",
       "      <td>0</td>\n",
       "    </tr>\n",
       "    <tr>\n",
       "      <th>004</th>\n",
       "      <td>0</td>\n",
       "      <td>0</td>\n",
       "      <td>0</td>\n",
       "      <td>0</td>\n",
       "      <td>0</td>\n",
       "      <td>0</td>\n",
       "      <td>0</td>\n",
       "      <td>0</td>\n",
       "      <td>0</td>\n",
       "      <td>0</td>\n",
       "      <td>...</td>\n",
       "      <td>0</td>\n",
       "      <td>0</td>\n",
       "      <td>0</td>\n",
       "      <td>0</td>\n",
       "      <td>0</td>\n",
       "      <td>0</td>\n",
       "      <td>0</td>\n",
       "      <td>0</td>\n",
       "      <td>0</td>\n",
       "      <td>0</td>\n",
       "    </tr>\n",
       "    <tr>\n",
       "      <th>007</th>\n",
       "      <td>0</td>\n",
       "      <td>0</td>\n",
       "      <td>0</td>\n",
       "      <td>0</td>\n",
       "      <td>0</td>\n",
       "      <td>0</td>\n",
       "      <td>0</td>\n",
       "      <td>0</td>\n",
       "      <td>0</td>\n",
       "      <td>0</td>\n",
       "      <td>...</td>\n",
       "      <td>0</td>\n",
       "      <td>0</td>\n",
       "      <td>0</td>\n",
       "      <td>0</td>\n",
       "      <td>0</td>\n",
       "      <td>0</td>\n",
       "      <td>0</td>\n",
       "      <td>0</td>\n",
       "      <td>0</td>\n",
       "      <td>0</td>\n",
       "    </tr>\n",
       "    <tr>\n",
       "      <th>00h30</th>\n",
       "      <td>0</td>\n",
       "      <td>0</td>\n",
       "      <td>0</td>\n",
       "      <td>0</td>\n",
       "      <td>0</td>\n",
       "      <td>0</td>\n",
       "      <td>0</td>\n",
       "      <td>0</td>\n",
       "      <td>0</td>\n",
       "      <td>0</td>\n",
       "      <td>...</td>\n",
       "      <td>0</td>\n",
       "      <td>0</td>\n",
       "      <td>0</td>\n",
       "      <td>0</td>\n",
       "      <td>0</td>\n",
       "      <td>0</td>\n",
       "      <td>0</td>\n",
       "      <td>0</td>\n",
       "      <td>0</td>\n",
       "      <td>0</td>\n",
       "    </tr>\n",
       "    <tr>\n",
       "      <th>01</th>\n",
       "      <td>0</td>\n",
       "      <td>0</td>\n",
       "      <td>0</td>\n",
       "      <td>0</td>\n",
       "      <td>0</td>\n",
       "      <td>0</td>\n",
       "      <td>0</td>\n",
       "      <td>0</td>\n",
       "      <td>0</td>\n",
       "      <td>0</td>\n",
       "      <td>...</td>\n",
       "      <td>0</td>\n",
       "      <td>0</td>\n",
       "      <td>0</td>\n",
       "      <td>0</td>\n",
       "      <td>0</td>\n",
       "      <td>0</td>\n",
       "      <td>0</td>\n",
       "      <td>0</td>\n",
       "      <td>0</td>\n",
       "      <td>0</td>\n",
       "    </tr>\n",
       "  </tbody>\n",
       "</table>\n",
       "<p>5 rows × 12834 columns</p>\n",
       "</div>"
      ],
      "text/plain": [
       "       0      1      2      3      4      5      6      7      8      9      \\\n",
       "0001       0      0      0      0      0      0      0      0      0      0   \n",
       "004        0      0      0      0      0      0      0      0      0      0   \n",
       "007        0      0      0      0      0      0      0      0      0      0   \n",
       "00h30      0      0      0      0      0      0      0      0      0      0   \n",
       "01         0      0      0      0      0      0      0      0      0      0   \n",
       "\n",
       "       ...  12824  12825  12826  12827  12828  12829  12830  12831  12832  \\\n",
       "0001   ...      0      0      0      0      0      0      0      0      0   \n",
       "004    ...      0      0      0      0      0      0      0      0      0   \n",
       "007    ...      0      0      0      0      0      0      0      0      0   \n",
       "00h30  ...      0      0      0      0      0      0      0      0      0   \n",
       "01     ...      0      0      0      0      0      0      0      0      0   \n",
       "\n",
       "       12833  \n",
       "0001       0  \n",
       "004        0  \n",
       "007        0  \n",
       "00h30      0  \n",
       "01         0  \n",
       "\n",
       "[5 rows x 12834 columns]"
      ]
     },
     "execution_count": 6,
     "metadata": {},
     "output_type": "execute_result"
    }
   ],
   "source": [
    "pt_stop_words = np.array([])\n",
    "# stopwords.txt é o arquivo que se encontra no link no começo da subseção\n",
    "with open(\"../../data/stopwords.txt\",encoding=\"utf-8\") as file:\n",
    "    line = file.readline()\n",
    "    while line != '':\n",
    "        line = re.sub('\\\\n$| $', '', line)\n",
    "        pt_stop_words = np.append(pt_stop_words,line)\n",
    "        line = file.readline()\n",
    "pt_stop_words = [clean_text(pt_stop_words[i]) for i in range(0,len(pt_stop_words))]\n",
    "pt_stop_words = list(set(pt_stop_words))\n",
    "\n",
    "cv = text.CountVectorizer(stop_words = text.ENGLISH_STOP_WORDS.union(pt_stop_words))\n",
    "data_cv = cv.fit_transform(clean_data.values.ravel())\n",
    "data_dtm = pd.DataFrame(data_cv.toarray(), columns=cv.get_feature_names())\n",
    "data_dtm.index = clean_data.index\n",
    "tdm = data_dtm.transpose()\n",
    "tdm.head()"
   ]
  },
  {
   "cell_type": "markdown",
   "metadata": {},
   "source": [
    "## Aplicando Topic Modelling (tentativa 1)\n",
    "\n",
    "Com a nossa Document Term Matrix (transposta devido à entrada da função a seguir), podemos usar a biblioteca Gensim para criar um modelo de Latent Dirichlet Allocation (LDA) e obter os nossos resultados."
   ]
  },
  {
   "cell_type": "code",
   "execution_count": 7,
   "metadata": {},
   "outputs": [],
   "source": [
    "# Colocando a Term Document Matrix em um novo formato gensim, de df --> sparse matrix --> gensim corpus\n",
    "sparse_counts = scipy.sparse.csr_matrix(tdm)\n",
    "corpus = matutils.Sparse2Corpus(sparse_counts)"
   ]
  },
  {
   "cell_type": "code",
   "execution_count": 8,
   "metadata": {},
   "outputs": [],
   "source": [
    "# Gensim também precisa de um dicionário com todos os termos e suas respectivas posições na Term Document Matrix\n",
    "id2word = dict((v, k) for k, v in cv.vocabulary_.items())"
   ]
  },
  {
   "cell_type": "markdown",
   "metadata": {},
   "source": [
    "Agora que temos o corpus (Term Document Matrix) e o id2word (dicionário de localização: termo), precisamos especificar dois outros parâmetros - o número de tópicos e o número de passos. Inicialmente vamos testar com $4$, $6$ e $10$ tópicos juntamente com $10$ passos e ver se os resultados fazem sentido."
   ]
  },
  {
   "cell_type": "code",
   "execution_count": 9,
   "metadata": {},
   "outputs": [
    {
     "data": {
      "text/plain": [
       "[(0,\n",
       "  '0.020*\"rt\" + 0.009*\"bolsonaro\" + 0.008*\"presidente\" + 0.007*\"brasil\" + 0.006*\"bolsonarosp\" + 0.006*\"jairbolsonaro\" + 0.006*\"tudo\" + 0.005*\"todos\" + 0.005*\"sempre\" + 0.005*\"contra\"'),\n",
       " (1,\n",
       "  '0.015*\"brasil\" + 0.010*\"governo\" + 0.008*\"bolsonaro\" + 0.006*\"ano\" + 0.006*\"2019\" + 0.005*\"rt\" + 0.005*\"maior\" + 0.005*\"pais\" + 0.004*\"economia\" + 0.004*\"empregos\"'),\n",
       " (2,\n",
       "  '0.012*\"governo\" + 0.010*\"milhoes\" + 0.008*\"rt\" + 0.006*\"mil\" + 0.006*\"saude\" + 0.006*\"jairbolsonaro\" + 0.005*\"govbr\" + 0.005*\"bolsonaro\" + 0.005*\"mdregionalbr\" + 0.005*\"federal\"'),\n",
       " (3,\n",
       "  '0.010*\"rt\" + 0.009*\"jairbolsonaro\" + 0.007*\"presidente\" + 0.006*\"bolsonaro\" + 0.005*\"parabens\" + 0.005*\"abraco\" + 0.005*\"rio\" + 0.004*\"brasil\" + 0.004*\"pt\" + 0.004*\"dia\"')]"
      ]
     },
     "execution_count": 9,
     "metadata": {},
     "output_type": "execute_result"
    }
   ],
   "source": [
    "# Agora que já temos o corpus (Term Document Matrix) e id2word (dicionário de localização: termo),\n",
    "# precisamos especificar também dois outros parâmetros - o número de tópicos e de passos\n",
    "lda = models.LdaModel(corpus=corpus, id2word=id2word, num_topics=4, passes=10, random_state=42)\n",
    "lda.print_topics()"
   ]
  },
  {
   "cell_type": "code",
   "execution_count": 10,
   "metadata": {},
   "outputs": [
    {
     "data": {
      "text/plain": [
       "[(0,\n",
       "  '0.028*\"rt\" + 0.011*\"bolsonaro\" + 0.011*\"presidente\" + 0.010*\"jairbolsonaro\" + 0.010*\"bolsonarosp\" + 0.007*\"contra\" + 0.007*\"sobre\" + 0.007*\"tudo\" + 0.006*\"deus\" + 0.006*\"todos\"'),\n",
       " (1,\n",
       "  '0.019*\"brasil\" + 0.011*\"governo\" + 0.009*\"bolsonaro\" + 0.007*\"2019\" + 0.007*\"ano\" + 0.006*\"maior\" + 0.006*\"pais\" + 0.006*\"economia\" + 0.005*\"bilhoes\" + 0.005*\"empregos\"'),\n",
       " (2,\n",
       "  '0.010*\"rt\" + 0.006*\"jairbolsonaro\" + 0.006*\"governo\" + 0.004*\"presidente\" + 0.004*\"brasil\" + 0.004*\"parte\" + 0.004*\"sabemos\" + 0.003*\"sempre\" + 0.003*\"contra\" + 0.003*\"midia\"'),\n",
       " (3,\n",
       "  '0.008*\"rt\" + 0.008*\"jairbolsonaro\" + 0.008*\"bolsonaro\" + 0.007*\"brasil\" + 0.007*\"todos\" + 0.007*\"presidente\" + 0.007*\"dia\" + 0.006*\"abraco\" + 0.006*\"hoje\" + 0.006*\"parabens\"'),\n",
       " (4,\n",
       "  '0.009*\"rt\" + 0.007*\"bolsonaro\" + 0.006*\"dinheiro\" + 0.005*\"presidente\" + 0.004*\"governo\" + 0.004*\"brasil\" + 0.004*\"alguem\" + 0.004*\"jairbolsonaro\" + 0.003*\"publico\" + 0.003*\"prudencia\"'),\n",
       " (5,\n",
       "  '0.015*\"governo\" + 0.012*\"milhoes\" + 0.009*\"mil\" + 0.007*\"govbr\" + 0.007*\"mdregionalbr\" + 0.006*\"acoes\" + 0.006*\"obras\" + 0.006*\"municipios\" + 0.006*\"estados\" + 0.006*\"federal\"')]"
      ]
     },
     "execution_count": 10,
     "metadata": {},
     "output_type": "execute_result"
    }
   ],
   "source": [
    "lda2 = models.LdaModel(corpus=corpus, id2word=id2word, num_topics=6, passes=10, random_state=42)\n",
    "lda2.print_topics()"
   ]
  },
  {
   "cell_type": "code",
   "execution_count": 11,
   "metadata": {},
   "outputs": [
    {
     "data": {
      "text/plain": [
       "[(0,\n",
       "  '0.029*\"rt\" + 0.015*\"bolsonaro\" + 0.015*\"presidente\" + 0.011*\"brasil\" + 0.010*\"todos\" + 0.010*\"jairbolsonaro\" + 0.009*\"tudo\" + 0.009*\"contra\" + 0.008*\"sobre\" + 0.008*\"sempre\"'),\n",
       " (1,\n",
       "  '0.030*\"brasil\" + 0.009*\"rio\" + 0.007*\"mercado\" + 0.006*\"desenvolvimento\" + 0.006*\"pais\" + 0.006*\"pai\" + 0.005*\"economia\" + 0.005*\"grande\" + 0.005*\"pode\" + 0.005*\"janeiro\"'),\n",
       " (2,\n",
       "  '0.015*\"rt\" + 0.013*\"arthurweint\" + 0.007*\"governo\" + 0.006*\"politicos\" + 0.006*\"disse\" + 0.006*\"congresso\" + 0.006*\"familia\" + 0.005*\"justica\" + 0.005*\"jairbolsonaro\" + 0.005*\"poder\"'),\n",
       " (3,\n",
       "  '0.014*\"minfraestrutura\" + 0.013*\"tarcisiogdf\" + 0.009*\"obras\" + 0.009*\"rt\" + 0.006*\"jairbolsonaro\" + 0.005*\"legal\" + 0.005*\"somente\" + 0.004*\"trabalho\" + 0.004*\"governo\" + 0.004*\"nova\"'),\n",
       " (4,\n",
       "  '0.024*\"bolsonaro\" + 0.015*\"rt\" + 0.008*\"jair\" + 0.008*\"presidente\" + 0.008*\"fake\" + 0.007*\"conexaopolitica\" + 0.007*\"news\" + 0.007*\"jairbolsonaro\" + 0.005*\"brasil\" + 0.005*\"tentativa\"'),\n",
       " (5,\n",
       "  '0.016*\"youtube\" + 0.014*\"jairbolsonaro\" + 0.014*\"link\" + 0.013*\"live\" + 0.009*\"materia\" + 0.009*\"rt\" + 0.009*\"claro\" + 0.008*\"taoquei1\" + 0.007*\"inacreditavel\" + 0.007*\"presidente\"'),\n",
       " (6,\n",
       "  '0.015*\"saude\" + 0.015*\"milhoes\" + 0.014*\"governo\" + 0.013*\"estados\" + 0.010*\"covid19\" + 0.010*\"municipios\" + 0.009*\"federal\" + 0.009*\"meccomunicacao\" + 0.009*\"minsaude\" + 0.009*\"combate\"'),\n",
       " (7,\n",
       "  '0.016*\"abraco\" + 0.016*\"rt\" + 0.010*\"jairbolsonaro\" + 0.010*\"redes\" + 0.009*\"parabens\" + 0.009*\"sabemos\" + 0.009*\"sociais\" + 0.009*\"govbr\" + 0.009*\"forte\" + 0.008*\"moro\"'),\n",
       " (8,\n",
       "  '0.024*\"governo\" + 0.015*\"bolsonaro\" + 0.014*\"ano\" + 0.012*\"2019\" + 0.011*\"milhoes\" + 0.011*\"mil\" + 0.009*\"brasil\" + 0.008*\"maior\" + 0.008*\"bilhoes\" + 0.007*\"empregos\"'),\n",
       " (9,\n",
       "  '0.009*\"esquerda\" + 0.009*\"lula\" + 0.009*\"ninguem\" + 0.008*\"ver\" + 0.008*\"pt\" + 0.008*\"alguem\" + 0.007*\"brasil\" + 0.007*\"precisa\" + 0.006*\"rt\" + 0.006*\"paulo\"')]"
      ]
     },
     "execution_count": 11,
     "metadata": {},
     "output_type": "execute_result"
    }
   ],
   "source": [
    "lda3 = models.LdaModel(corpus=corpus, id2word=id2word, num_topics=10, passes=10, random_state=42)\n",
    "lda3.print_topics()"
   ]
  },
  {
   "cell_type": "markdown",
   "metadata": {},
   "source": [
    "Os resultados são interessantes, mas ainda confusos devido a algumas outras stop words e palavras. Realizaremos a mesma análise agora deixando apenas substantivos e adjetivos (e removendo algumas stop words extras)."
   ]
  },
  {
   "cell_type": "markdown",
   "metadata": {},
   "source": [
    "## Aplicando Topic Modelling (tentativa 2)\n",
    "\n",
    "Para que o nosso modelo se torne mais preciso para nossos objetivos, podemos adicionar algumas stop_words identificadas nos grupos de tópicos acima e também filtrar nossas palavras para apenas substantivos e adjetivos."
   ]
  },
  {
   "cell_type": "code",
   "execution_count": 12,
   "metadata": {
    "scrolled": true
   },
   "outputs": [
    {
     "data": {
      "text/html": [
       "<div>\n",
       "<style scoped>\n",
       "    .dataframe tbody tr th:only-of-type {\n",
       "        vertical-align: middle;\n",
       "    }\n",
       "\n",
       "    .dataframe tbody tr th {\n",
       "        vertical-align: top;\n",
       "    }\n",
       "\n",
       "    .dataframe thead th {\n",
       "        text-align: right;\n",
       "    }\n",
       "</style>\n",
       "<table border=\"1\" class=\"dataframe\">\n",
       "  <thead>\n",
       "    <tr style=\"text-align: right;\">\n",
       "      <th></th>\n",
       "      <th>text</th>\n",
       "    </tr>\n",
       "  </thead>\n",
       "  <tbody>\n",
       "    <tr>\n",
       "      <th>0</th>\n",
       "      <td>edificio joelmasp cassaniga salta da fab terraco chamas para salvar uma das maiores historia youtube</td>\n",
       "    </tr>\n",
       "    <tr>\n",
       "      <th>1</th>\n",
       "      <td>agua para quem tem sede para um povo brasil acima deus acima bom dia youtube</td>\n",
       "    </tr>\n",
       "    <tr>\n",
       "      <th>2</th>\n",
       "      <td>tarcisiogdf minfraestrutura ministro</td>\n",
       "    </tr>\n",
       "    <tr>\n",
       "      <th>3</th>\n",
       "      <td>mineconomia mincidadania onyxlorenzoni meccomunicacao itamaratygovbr ernestofaraujo</td>\n",
       "    </tr>\n",
       "    <tr>\n",
       "      <th>4</th>\n",
       "      <td>acompanhe redes secomvc fabiofaria5555 tarcisiogdf minfraestrutura mineconomia mapabrasil terezacrisms damaresalves</td>\n",
       "    </tr>\n",
       "  </tbody>\n",
       "</table>\n",
       "</div>"
      ],
      "text/plain": [
       "                                                                                                                  text\n",
       "0                 edificio joelmasp cassaniga salta da fab terraco chamas para salvar uma das maiores historia youtube\n",
       "1                                         agua para quem tem sede para um povo brasil acima deus acima bom dia youtube\n",
       "2                                                                                 tarcisiogdf minfraestrutura ministro\n",
       "3                                  mineconomia mincidadania onyxlorenzoni meccomunicacao itamaratygovbr ernestofaraujo\n",
       "4  acompanhe redes secomvc fabiofaria5555 tarcisiogdf minfraestrutura mineconomia mapabrasil terezacrisms damaresalves"
      ]
     },
     "execution_count": 12,
     "metadata": {},
     "output_type": "execute_result"
    }
   ],
   "source": [
    "# Algumas stop words comuns nos tweets\n",
    "add_stop_words = ['pra','ai','rt', 'fazem', 'aqui', 'entao', 'vamos', 'vai', 'onde','somente','apos','cara','tipo']\n",
    "\n",
    "# Função que retorna substantivo e adjetivo\n",
    "def nouns_adj(text):\n",
    "    '''Given a string of text, tokenize the text and pull out only the nouns and adjectives.'''\n",
    "    is_noun_adj = lambda pos: pos[:2] == 'NN' or pos[:2] == 'JJ'\n",
    "    tokenized = nltk.word_tokenize(text,language='portuguese')\n",
    "    nouns_adj = [word for (word, pos) in nltk.pos_tag(tokenized) if is_noun_adj(pos)] \n",
    "    return ' '.join(nouns_adj)\n",
    "\n",
    "nouns_adj_data = pd.DataFrame(clean_data.text.apply(lambda x: nouns_adj(x)))\n",
    "nouns_adj_data.head()"
   ]
  },
  {
   "cell_type": "code",
   "execution_count": 13,
   "metadata": {},
   "outputs": [],
   "source": [
    "cv_new = text.CountVectorizer(stop_words = text.ENGLISH_STOP_WORDS.union(pt_stop_words+add_stop_words))\n",
    "data_cv_new = cv_new.fit_transform(nouns_adj_data.values.ravel())\n",
    "data_dtm_new = pd.DataFrame(data_cv_new.toarray(), columns=cv_new.get_feature_names())\n",
    "data_dtm_new.index = nouns_adj_data.index\n",
    "tdm_new = data_dtm_new.transpose()\n",
    "sparse_counts_new = scipy.sparse.csr_matrix(tdm_new)\n",
    "\n",
    "# Criando o corpus do Gensim\n",
    "corpus_new = matutils.Sparse2Corpus(sparse_counts_new)\n",
    "\n",
    "# Create the vocabulary dictionary\n",
    "id2word_new = dict((v, k) for k, v in cv_new.vocabulary_.items())"
   ]
  },
  {
   "cell_type": "code",
   "execution_count": 14,
   "metadata": {},
   "outputs": [
    {
     "data": {
      "text/plain": [
       "[(0,\n",
       "  '0.025*\"brasil\" + 0.017*\"todos\" + 0.015*\"deus\" + 0.013*\"tudo\" + 0.010*\"presidente\" + 0.008*\"povo\" + 0.008*\"jairbolsonaro\" + 0.007*\"sempre\" + 0.007*\"quer\" + 0.006*\"bem\"'),\n",
       " (1,\n",
       "  '0.013*\"governo\" + 0.010*\"mineconomia\" + 0.010*\"bilhoes\" + 0.009*\"brasil\" + 0.008*\"bolsonaro\" + 0.008*\"programa\" + 0.007*\"mil\" + 0.007*\"economia\" + 0.007*\"anos\" + 0.007*\"maior\"'),\n",
       " (2,\n",
       "  '0.022*\"milhoes\" + 0.015*\"mil\" + 0.011*\"combate\" + 0.011*\"covid19\" + 0.011*\"acoes\" + 0.010*\"federal\" + 0.009*\"lula\" + 0.008*\"estados\" + 0.007*\"jairbolsonaro\" + 0.007*\"governo\"'),\n",
       " (3,\n",
       "  '0.011*\"bolsonarosp\" + 0.010*\"ainda\" + 0.010*\"bolsonaro\" + 0.009*\"jairbolsonaro\" + 0.009*\"sobre\" + 0.007*\"governo\" + 0.007*\"trabalho\" + 0.007*\"tarcisiogdf\" + 0.006*\"dia\" + 0.006*\"alguem\"'),\n",
       " (4,\n",
       "  '0.018*\"governo\" + 0.013*\"mdregionalbr\" + 0.012*\"milhoes\" + 0.009*\"govbr\" + 0.008*\"bolsonaro\" + 0.008*\"jairbolsonaro\" + 0.008*\"semana\" + 0.007*\"minfraestrutura\" + 0.007*\"municipios\" + 0.006*\"detalhes\"'),\n",
       " (5,\n",
       "  '0.014*\"verdade\" + 0.011*\"news\" + 0.009*\"sempre\" + 0.009*\"narrativa\" + 0.008*\"midia\" + 0.008*\"querem\" + 0.007*\"fake\" + 0.007*\"agora\" + 0.007*\"parte\" + 0.006*\"isentoes\"'),\n",
       " (6,\n",
       "  '0.012*\"arthurweint\" + 0.008*\"brasil\" + 0.005*\"nacional\" + 0.005*\"internet\" + 0.005*\"minagricultura\" + 0.005*\"coisa\" + 0.005*\"politica\" + 0.005*\"setembro\" + 0.005*\"mae\" + 0.004*\"sobre\"'),\n",
       " (7,\n",
       "  '0.030*\"bolsonaro\" + 0.016*\"brasil\" + 0.015*\"presidente\" + 0.010*\"jair\" + 0.010*\"rio\" + 0.010*\"contra\" + 0.008*\"jairbolsonaro\" + 0.007*\"diz\" + 0.007*\"obrigado\" + 0.006*\"esquerda\"'),\n",
       " (8,\n",
       "  '0.018*\"abraco\" + 0.011*\"forte\" + 0.010*\"grande\" + 0.010*\"jairbolsonaro\" + 0.008*\"coisas\" + 0.008*\"abrahamweint\" + 0.007*\"portimeubr\" + 0.007*\"boas\" + 0.006*\"inacreditavel\" + 0.006*\"problema\"'),\n",
       " (9,\n",
       "  '0.016*\"jairbolsonaro\" + 0.013*\"presidente\" + 0.010*\"bolsonaro\" + 0.010*\"hoje\" + 0.010*\"parabens\" + 0.009*\"youtube\" + 0.009*\"live\" + 0.008*\"globo\" + 0.007*\"sofisticacao\" + 0.006*\"prudencia\"')]"
      ]
     },
     "execution_count": 14,
     "metadata": {},
     "output_type": "execute_result"
    }
   ],
   "source": [
    "# Teste com 10 tópicos\n",
    "lda6 = models.LdaModel(corpus=corpus_new, num_topics=10, id2word=id2word_new, passes=20, random_state=42)\n",
    "lda6.print_topics()"
   ]
  },
  {
   "cell_type": "markdown",
   "metadata": {},
   "source": [
    "Como podemos ver, os assuntos principais dos tweets de cada grupo de tópicos se envolvem em torno de:\n",
    "\n",
    "0. Religião;\n",
    "1. Economia; \n",
    "2. Pandemia e Esquerda;\n",
    "3. Trabalho e Infraestrutura;\n",
    "4. Desenvolvimento Regional e Infraestrutura;\n",
    "5. Fake News;\n",
    "6. Acessoria e Agricultura;\n",
    "7. Rio de Janeiro;\n",
    "8. Educação;\n",
    "9. Mídia;\n",
    "\n",
    "Claro que todas essas afirmações acima são completamente qualitativas.\n",
    "\n",
    "Criando o vetor de tópicos para adicionarmos aos dados (considerando como o tópico correto o com maior peso):"
   ]
  },
  {
   "cell_type": "code",
   "execution_count": 15,
   "metadata": {},
   "outputs": [],
   "source": [
    "corpus_transformed = lda6[corpus_new]\n",
    "topics = []\n",
    "for tweetTopics in corpus_transformed:\n",
    "    maxValue = 0\n",
    "    rightTopic = 0\n",
    "    for topic,value in tweetTopics:\n",
    "        if(value>maxValue):\n",
    "            maxValue = value\n",
    "            rightTopic = topic\n",
    "    topics.append(rightTopic)\n",
    "topics = np.array(topics)\n",
    "# Os dados em si serão adicionados após a análise de sentimentos"
   ]
  },
  {
   "cell_type": "markdown",
   "metadata": {
    "colab_type": "text",
    "id": "7piddIa1T1Iv"
   },
   "source": [
    "# Análise de sentimentos\n",
    "\n",
    "Para obter informações dos tweets coletados iremos efetuar uma anális de sentimentos no tweets, isto é, para cada um dos tweets desejamos indentificar se o texto possui um sentimento positivo ou negativo associado, e além disso, também seremos capazes de avaliar se o texto representa uma opinião ou um fato. Para a análise de sentimentos utilizaremos a biblioteca __Textblob__. No entanto, uma das limitações muitas vezes encontradas para fazer processamento de textos é que a maior parte das ferramentas dão suporte apenas para o inglês, por esse motivo, iremos traduzir cada um dos tweets para inglês utilizando a biblioteca __Googletrans__."
   ]
  },
  {
   "cell_type": "code",
   "execution_count": 16,
   "metadata": {
    "colab": {},
    "colab_type": "code",
    "id": "a2z-C0oiTtzl"
   },
   "outputs": [],
   "source": [
    "#!pip install googletrans"
   ]
  },
  {
   "cell_type": "markdown",
   "metadata": {
    "colab_type": "text",
    "id": "GfX9420ygiRr"
   },
   "source": [
    "## Tradução e análise de sentimentos"
   ]
  },
  {
   "cell_type": "code",
   "execution_count": 17,
   "metadata": {
    "colab": {
     "base_uri": "https://localhost:8080/",
     "height": 34
    },
    "colab_type": "code",
    "id": "YOjhZjL6T1d2",
    "outputId": "b3f78dc0-3236-4ad5-b511-afc2eefb594a"
   },
   "outputs": [],
   "source": [
    "dfSent = dfOri.drop(columns = [\"Unnamed: 0\"])\n",
    "trans = lambda tw : translator.translate(tw).text\n",
    "full_text_en = []\n",
    "for i in tqdm(range(0, 12000, 1000)):\n",
    "    translator = Translator()\n",
    "    for tw in dfSent.full_text[i:i+1000]:\n",
    "        full_text_en.append(trans(tw))\n",
    "for tw in dfSent.full_text[12000:]:\n",
    "    full_text_en.append(trans(tw))\n",
    "dfSent[\"full_text_en\"] = full_text_en\n",
    "pol = lambda x : textblob.TextBlob(x).polarity\n",
    "sub = lambda x : textblob.TextBlob(x).subjectivity\n",
    "dfSent['polarity'] = dfSent.full_text_en.apply(pol)\n",
    "dfSent['subjectivity'] = dfSent.full_text_en.apply(sub)\n",
    "dfSent.to_pickle('../../data/tweets/sentiment_analysis.pkl')"
   ]
  },
  {
   "cell_type": "code",
   "execution_count": 18,
   "metadata": {},
   "outputs": [],
   "source": [
    "# Adicionando os tópicos e exportando os dados\n",
    "dfSent['topic'] = topics\n",
    "dfSent.to_pickle(\"../../data/tweets/final_tweets_data.pkl\")"
   ]
  },
  {
   "cell_type": "markdown",
   "metadata": {},
   "source": [
    "O código acima demora bastante para rodar devido à quantidade de traduções. Com isso, o código abaixo serve para carregar esses dados."
   ]
  },
  {
   "cell_type": "code",
   "execution_count": 27,
   "metadata": {
    "colab": {},
    "colab_type": "code",
    "id": "-ZEGL7TdhtcF"
   },
   "outputs": [],
   "source": [
    "dfSent = pd.read_pickle('../../data/tweets/sentiment_analysis.pkl')\n",
    "dfFinal = pd.read_pickle('../../data/tweets/final_tweets_data.pkl')"
   ]
  },
  {
   "cell_type": "markdown",
   "metadata": {
    "colab_type": "text",
    "id": "Qp6aazA9bnAP"
   },
   "source": [
    "Com os dados já traduzidos, vamos observar alguns tweets em português e em inglês para verificar se as traduções são satisfatórias."
   ]
  },
  {
   "cell_type": "code",
   "execution_count": 28,
   "metadata": {},
   "outputs": [
    {
     "name": "stdout",
     "output_type": "stream",
     "text": [
      "Português:\n",
      "-Edifício Joelma/SP, 1974.\n",
      "\n",
      "-Sgt CASSANIGA salta de helicóptero da FAB no terraço do edifício em chamas para salvar vidas, em uma das maiores tragédias na história do Brasil.\n",
      "\n",
      ". Link no YouTube: https://t.co/JW8q4qN3a8 https://t.co/3Ulw3G96D5\n",
      "\n",
      "Inglês\n",
      "\t- Joelma / SP Building, 1974.\n",
      "\n",
      "-Sgt CASSANIGA jumps from the FAB helicopter on the terrace of the burning building to save lives, in one of the greatest tragedies in the history of Brazil.\n",
      "\n",
      ". Link on YouTube: https://t.co/JW8q4qN3a8 https://t.co/3Ulw3G96D5\n",
      "\n",
      "Português:\n",
      "- Água para quem tem sede.\n",
      "- Liberdade para um povo. \n",
      "- Brasil acima de tudo, Deus acima de todos!\n",
      "- BOM DIA.\n",
      "\n",
      ". YouTube: https://t.co/eS5aHQfMXu https://t.co/UERpWo4NbR\n",
      "\n",
      "Inglês\n",
      "\t- Water for those who are thirsty.\n",
      "- Freedom for a people.\n",
      "- Brazil above all, God above all!\n",
      "- GOOD MORNING.\n",
      "\n",
      ". YouTube: https://t.co/eS5aHQfMXu https://t.co/UERpWo4NbR\n",
      "\n",
      "Português:\n",
      "@tarcisiogdf @MInfraestrutura 🤝🇧🇷, Ministro!\n",
      "\n",
      "Inglês\n",
      "\t@tarcisiogdf @MInfraestrutura 🤝🇧🇷, Minister!\n",
      "\n",
      "Português:\n",
      "2- @MinEconomia @MinCidadania @onyxlorenzoni @MEC_Comunicacao @ItamaratyGovBr @ernestofaraujo https://t.co/WVf6V7pqzC\n",
      "\n",
      "Inglês\n",
      "\t2- @MinEconomia @MinCidadania @onyxlorenzoni @MEC_Comunicacao @ItamaratyGovBr @ernestofaraujo https://t.co/WVf6V7pqzC\n",
      "\n",
      "Português:\n",
      "1- Acompanhe as redes sociais! @secomvc @fabiofaria5555 @tarcisiogdf @MInfraestrutura @MinEconomia @minsaude @Mapa_Brasil @TerezaCrisMS @DHumanosBrasil @DamaresAlves https://t.co/86CKnGZ4Ik\n",
      "\n",
      "Inglês\n",
      "\t1- Follow the social networks! @secomvc @ fabiofaria5555 @tarcisiogdf @MInfraestrutura @MinEconomia @minsaude @Mapa_Brasil @TerezaCrisMS @DHumanosBrasil @DamaresAlves https://t.co/86CKnGZ4Ik\n",
      "\n"
     ]
    }
   ],
   "source": [
    "for i in range(5):\n",
    "    print(\"Português:\")\n",
    "    print(dfSent.full_text[i])\n",
    "    print()\n",
    "    print(\"Inglês\")\n",
    "    print(\"\\t\" + dfSent.full_text_en[i])\n",
    "    print()"
   ]
  },
  {
   "cell_type": "markdown",
   "metadata": {
    "colab_type": "text",
    "id": "w8DnSFgUgmF4"
   },
   "source": [
    "# Visualização dos resultados\n",
    "## Modelagem de Tópicos"
   ]
  },
  {
   "cell_type": "markdown",
   "metadata": {},
   "source": [
    "Para que a análise gráfica fique mais interessante, podemos converter os tópicos de números para nomes:"
   ]
  },
  {
   "cell_type": "code",
   "execution_count": 142,
   "metadata": {
    "scrolled": false
   },
   "outputs": [
    {
     "data": {
      "text/html": [
       "<div>\n",
       "<style scoped>\n",
       "    .dataframe tbody tr th:only-of-type {\n",
       "        vertical-align: middle;\n",
       "    }\n",
       "\n",
       "    .dataframe tbody tr th {\n",
       "        vertical-align: top;\n",
       "    }\n",
       "\n",
       "    .dataframe thead th {\n",
       "        text-align: right;\n",
       "    }\n",
       "</style>\n",
       "<table border=\"1\" class=\"dataframe\">\n",
       "  <thead>\n",
       "    <tr style=\"text-align: right;\">\n",
       "      <th></th>\n",
       "      <th>name</th>\n",
       "      <th>subject</th>\n",
       "      <th>numer_tweets</th>\n",
       "    </tr>\n",
       "  </thead>\n",
       "  <tbody>\n",
       "    <tr>\n",
       "      <th>0</th>\n",
       "      <td>bolsonarosp</td>\n",
       "      <td>Religião</td>\n",
       "      <td>519</td>\n",
       "    </tr>\n",
       "    <tr>\n",
       "      <th>1</th>\n",
       "      <td>bolsonarosp</td>\n",
       "      <td>Economia</td>\n",
       "      <td>280</td>\n",
       "    </tr>\n",
       "    <tr>\n",
       "      <th>2</th>\n",
       "      <td>bolsonarosp</td>\n",
       "      <td>Pandemia</td>\n",
       "      <td>136</td>\n",
       "    </tr>\n",
       "    <tr>\n",
       "      <th>3</th>\n",
       "      <td>bolsonarosp</td>\n",
       "      <td>Esquerda</td>\n",
       "      <td>136</td>\n",
       "    </tr>\n",
       "    <tr>\n",
       "      <th>4</th>\n",
       "      <td>bolsonarosp</td>\n",
       "      <td>Trabalho</td>\n",
       "      <td>483</td>\n",
       "    </tr>\n",
       "  </tbody>\n",
       "</table>\n",
       "</div>"
      ],
      "text/plain": [
       "          name   subject  numer_tweets\n",
       "0  bolsonarosp  Religião           519\n",
       "1  bolsonarosp  Economia           280\n",
       "2  bolsonarosp  Pandemia           136\n",
       "3  bolsonarosp  Esquerda           136\n",
       "4  bolsonarosp  Trabalho           483"
      ]
     },
     "execution_count": 142,
     "metadata": {},
     "output_type": "execute_result"
    }
   ],
   "source": [
    "topicsContext = {0:['Religião'],\n",
    "                1:['Economia'],\n",
    "                2:['Pandemia','Esquerda'],\n",
    "                3:['Trabalho','Infraestrutura'],\n",
    "                4:['Desenvolvimento Regional','Infraestrutura'],\n",
    "                5:['Fake News'],\n",
    "                6:['Acessoria','Agricultura'],\n",
    "                7:['Rio de Janeiro'],\n",
    "                8:['Educação'],\n",
    "                9:['Mídia']}\n",
    "\n",
    "topic_data = dfFinal.groupby(['name','topic']).agg({'topic':len,\n",
    "                                                   'retweet_count':np.mean,})\n",
    "topic_data.columns = ['number_tweets','retweet_mean']\n",
    "topic_data.reset_index(level=['topic','name'],inplace=True)\n",
    "\n",
    "# mudar de topico:conteudos para conteudo:topicos\n",
    "contextTopics = {}\n",
    "for topic,contexts in topicsContext.items():\n",
    "    for context in contexts:\n",
    "        if context in contextTopics.keys(): contextTopics[context].append(topic)\n",
    "        else: contextTopics[context] = [topic]\n",
    "            \n",
    "nameList = ['bolsonarosp', 'carlosbolsonaro', 'flaviobolsonaro','jairbolsonaro']\n",
    "newDf = []\n",
    "for name in nameList:\n",
    "    for context in contextTopics.keys():\n",
    "        total_tweets = 0        \n",
    "        for topic in contextTopics[context]:\n",
    "            total_tweets += int(topic_data.iloc[(topic_data['name'].values==name) & (topic_data['topic'].values==topic),2].values)\n",
    "        newDf.append([name,context,total_tweets])\n",
    "newDf = pd.DataFrame(newDf,columns=['name','subject','numer_tweets'])\n",
    "newDf.head()"
   ]
  },
  {
   "cell_type": "code",
   "execution_count": 143,
   "metadata": {},
   "outputs": [
    {
     "data": {
      "image/png": "[encoded data removed]",
      "text/plain": [
       "<Figure size 1080x432 with 1 Axes>"
      ]
     },
     "metadata": {
      "needs_background": "light"
     },
     "output_type": "display_data"
    }
   ],
   "source": [
    "nameList = ['bolsonarosp', 'carlosbolsonaro', 'flaviobolsonaro','jairbolsonaro']\n",
    "colors = ['g','b','r','y']\n",
    "x = np.array(range(0,len(np.unique(newDf.subject.values))))\n",
    "widthBar = 0.8*np.min(np.diff(x))/len(nameList)\n",
    "\n",
    "fig, ax = plt.subplots(1,1, figsize=(15,6))\n",
    "\n",
    "for i in range(0,len(nameList)):\n",
    "    ax.bar(x-((len(nameList)-1)/2-i)*widthBar,\n",
    "           newDf.iloc[newDf['name'].values==nameList[i],2].values,\n",
    "           width = widthBar,\n",
    "           label=nameList[i],\n",
    "           color = colors[i])\n",
    "    \n",
    "plt.xticks(rotation=45)\n",
    "\n",
    "ax.set_xlabel(\"Assunto\", fontsize=12)\n",
    "ax.set_ylabel(\"Número de Tweets\", fontsize=12)\n",
    "ax.set_title('Comparação entre os Assuntos', fontsize=12)\n",
    "plt.xticks(x, newDf.subject.values[0:13])\n",
    "ax.grid(True, lw=1.5, ls='-', alpha=0.1)\n",
    "ax.legend()\n",
    "plt.savefig('images/topic_dist.pdf')\n",
    "plt.show()"
   ]
  },
  {
   "cell_type": "markdown",
   "metadata": {},
   "source": [
    "Podemos ver que os tweets estão semelhantemente distribuídos pelos assuntos, com discrepâncias como Carlos Bolsonaro com relação ao tema religião, Flávio Bolsonaro com o tema Rio de Janeiro e Jair Bolsonaro com o tema Desenvolvimento Regional. "
   ]
  },
  {
   "cell_type": "markdown",
   "metadata": {},
   "source": [
    "## Análise de Sentimentos"
   ]
  },
  {
   "cell_type": "code",
   "execution_count": 31,
   "metadata": {
    "colab": {
     "base_uri": "https://localhost:8080/",
     "height": 295
    },
    "colab_type": "code",
    "id": "IEKlv352XKV7",
    "outputId": "3e80d5f9-e235-4b03-c10e-85954da64f69"
   },
   "outputs": [
    {
     "data": {
      "image/png": "[encoded data removed]",
      "text/plain": [
       "<Figure size 432x288 with 1 Axes>"
      ]
     },
     "metadata": {
      "needs_background": "light"
     },
     "output_type": "display_data"
    }
   ],
   "source": [
    "plot_data = dfSent.groupby(by = \"name\").mean()\n",
    "plt.scatter(plot_data.polarity, plot_data.subjectivity)\n",
    "plt.title(\"Média de polaridade e subjetividade\")\n",
    "for row in range(len(plot_data)):\n",
    "    plt.annotate(plot_data.index[row], (plot_data.polarity[row] - 0.01, plot_data.subjectivity[row] - 0.013))\n",
    "plt.xlabel(\"Polaridade\")\n",
    "plt.ylabel(\"Subjetividade\")\n",
    "plt.xlim([0, 0.15])\n",
    "plt.ylim([0, 0.3])\n",
    "plt.savefig('images/mean_pol_subj.pdf')\n",
    "plt.show()"
   ]
  },
  {
   "cell_type": "markdown",
   "metadata": {
    "colab_type": "text",
    "id": "gLATXjfa1_I5"
   },
   "source": [
    "Observamos que todos os perfis estão próximos, no entanto, temos que o perfil do vereador Carlos Bolsonaro (@carlosbolsonaro) é o menos polarizado e subjetivo entre os observados. Também temos que o perfil mais subjetivo é o do deputado Eduardo Bolsonaro (@bolsonarosp) e o mais polarizado é do presidente Jair Bolsonaro (@jairbolsonaro)."
   ]
  },
  {
   "cell_type": "code",
   "execution_count": 32,
   "metadata": {
    "colab": {
     "base_uri": "https://localhost:8080/",
     "height": 404
    },
    "colab_type": "code",
    "id": "OQ3Mq7DEb2AE",
    "outputId": "429b3cd8-f8d6-40de-d706-9cfd0769d014"
   },
   "outputs": [
    {
     "data": {
      "image/png": "[encoded data removed]",
      "text/plain": [
       "<Figure size 720x432 with 1 Axes>"
      ]
     },
     "metadata": {
      "needs_background": "light"
     },
     "output_type": "display_data"
    }
   ],
   "source": [
    "fig, ax = plt.subplots()\n",
    "fig.set_figheight(6)\n",
    "fig.set_figwidth(10)\n",
    "ax.set_title(\"Polaridade x Subjetividade\")\n",
    "for (name, color) in [(\"jairbolsonaro\", \"red\"), (\"bolsonarosp\", \"blue\"),\n",
    "             (\"carlosbolsonaro\", \"green\"), (\"flaviobolsonaro\", \"yellow\")]:\n",
    "    ax.scatter(dfSent[dfSent.name == name].polarity, dfSent[dfSent.name == name].subjectivity, c = color, label = name, s = 10)\n",
    "ax.set_xlabel(\"Polaridade\")\n",
    "ax.set_ylabel(\"Subjetividade\")\n",
    "plt.legend()\n",
    "plt.grid()\n",
    "plt.savefig('images/pol_subj_by_name.pdf')\n",
    "plt.show()"
   ]
  },
  {
   "cell_type": "code",
   "execution_count": 23,
   "metadata": {
    "colab": {
     "base_uri": "https://localhost:8080/",
     "height": 1000
    },
    "colab_type": "code",
    "id": "atiQHMJhbcHb",
    "outputId": "9d296788-3954-4e5e-c6d1-a089ded939a8",
    "scrolled": false
   },
   "outputs": [],
   "source": [
    "plot_data = dfSent.groupby(by = [\"name\",\"year\", \"month\", \"day\"]).mean()\n",
    "plot_data.reset_index(inplace = True)\n",
    "fig, axis = plt.subplots(nrows = 4, ncols = 2)\n",
    "fig.set_figheight(16)\n",
    "fig.set_figwidth(12)\n",
    "plt.suptitle(\"Média semanal de polaridade e subjetividade por usuário\")\n",
    "name = ['jairbolsonaro', 'bolsonarosp', 'flaviobolsonaro', 'carlosbolsonaro']\n",
    "for (i, row) in enumerate(axis):\n",
    "    row_data = plot_data[plot_data.name == name[i]].rolling(7).mean().iloc[::7, :]\n",
    "    row_data.dropna(inplace = True)\n",
    "    date_ticks = row_data.month.map(lambda x : str(int(np.floor(x)))) + \"/\" + row_data.year.map(lambda x : str(int(x)))\n",
    "    n_ticks = int(len(date_ticks)/5)\n",
    "    row[0].set_title(\"Polaridade de @\" + name[i])\n",
    "    row[0].plot(row_data.index, row_data.polarity)\n",
    "    row[0].set_ylabel(\"Polaridade\")\n",
    "    row[0].set_xticks(row_data.index[::n_ticks])\n",
    "    row[0].set_xticklabels(date_ticks[::n_ticks])\n",
    "\n",
    "    row[1].set_title(\"Subjetividade de @\"+ name[i])\n",
    "    row[1].plot(row_data.index, row_data.subjectivity)\n",
    "    row[1].set_ylabel(\"Subjetividade\")\n",
    "    row[1].set_xticks(row_data.index[::n_ticks])\n",
    "    row[1].set_xticklabels(date_ticks[::n_ticks])\n",
    "plt.savefig(\"images/pol_subj_by_time.pdf\")\n",
    "plt.show()"
   ]
  },
  {
   "cell_type": "markdown",
   "metadata": {
    "colab_type": "text",
    "id": "obToTbx12pHG"
   },
   "source": [
    "Nessa ultima visualização, vemos que a polaridade e subjetividade dos tweets não apresentam nenhum comportamento padronizado ao longo do tempo. Por fim, vamos observar alguns dos tweets mais polarizados e subjetivos encontrados."
   ]
  },
  {
   "cell_type": "code",
   "execution_count": 33,
   "metadata": {
    "colab": {
     "base_uri": "https://localhost:8080/",
     "height": 411
    },
    "colab_type": "code",
    "id": "FsJil6442ksx",
    "outputId": "1479184a-a8ee-495a-f7d3-cb08356a1cce"
   },
   "outputs": [
    {
     "name": "stdout",
     "output_type": "stream",
     "text": [
      "Tweets com polaridade negativa:\n",
      "Usuário: carlosbolsonaro Data: 2020-03-16 00:23:19+00:00\n",
      "Tweet:Não adianta pagar de porta-voz da nação. O povo o odeia! Não os representa. Saia da bolha, vá na rua e perceberá!\n",
      "Usuário: flaviobolsonaro Data: 2017-09-18 11:10:10+00:00\n",
      "Tweet:Legalizar a pedofilia é o objetivo desses imundos! https://t.co/KMLqb4g1Da\n",
      "\n",
      "Tweets com polaridade positiva:\n",
      "Usuário: jairbolsonaro Data: 2019-06-12 22:42:37+00:00\n",
      "Tweet:Feliz dia dos namorados! 👍 https://t.co/e1svTppojj\n",
      "Usuário: jairbolsonaro Data: 2020-07-27 20:51:13+00:00\n",
      "Tweet:-Edifício Joelma/SP, 1974.\n",
      "\n",
      "-Sgt CASSANIGA salta de helicóptero da FAB no terraço do edifício em chamas para salvar vidas, em uma das maiores tragédias na história do Brasil.\n",
      "\n",
      ". Link no YouTube: https://t.co/JW8q4qN3a8 https://t.co/3Ulw3G96D5\n",
      "\n",
      "Tweets com subjetividade:\n",
      "Usuário: jairbolsonaro Data: 2020-07-27 20:51:13+00:00\n",
      "Tweet:-Edifício Joelma/SP, 1974.\n",
      "\n",
      "-Sgt CASSANIGA salta de helicóptero da FAB no terraço do edifício em chamas para salvar vidas, em uma das maiores tragédias na história do Brasil.\n",
      "\n",
      ". Link no YouTube: https://t.co/JW8q4qN3a8 https://t.co/3Ulw3G96D5\n",
      "Usuário: carlosbolsonaro Data: 2019-10-29 09:41:35+00:00\n",
      "Tweet:O GOVERNO BOLSONARO: o @mdregional_br autorizou a transferência de R$794 mil ao município de Terra Nova do Norte (MT) para reconstrução de 3 pontes danificadas por chuvas intensas na região. A Portaria nº 2.492, que autoriza o repasse, foi publicada nO Diário Oficial da União.\n"
     ]
    }
   ],
   "source": [
    "dfSent = dfSent.sort_values('polarity')\n",
    "for i in [0, 1, -2, -1]:\n",
    "    if i == 0:\n",
    "        print(\"Tweets com polaridade negativa:\")\n",
    "    elif i == -2:\n",
    "        print()\n",
    "        print(\"Tweets com polaridade positiva:\")\n",
    "    print(\"Usuário: \" + dfSent.iloc[i, :]['name'] + \" Data: \" + str(dfSent.iloc[i, :].date))\n",
    "    print(\"Tweet:\" + dfSent.iloc[i, :].full_text)\n",
    "\n",
    "dfSent = dfSent.sort_values('subjectivity', ascending = False)\n",
    "print()\n",
    "print(\"Tweets com subjetividade:\")\n",
    "for i in [0, 1]:\n",
    "    print(\"Usuário: \" + dfSent.iloc[i, :]['name'] + \" Data: \" + str(dfSent.iloc[i, :].date))\n",
    "    print(\"Tweet:\" + dfSent.iloc[i, :].full_text)"
   ]
  },
  {
   "cell_type": "code",
   "execution_count": null,
   "metadata": {},
   "outputs": [],
   "source": []
  }
 ],
 "metadata": {
  "kernelspec": {
   "display_name": "Python 3",
   "language": "python",
   "name": "python3"
  },
  "language_info": {
   "codemirror_mode": {
    "name": "ipython",
    "version": 3
   },
   "file_extension": ".py",
   "mimetype": "text/x-python",
   "name": "python",
   "nbconvert_exporter": "python",
   "pygments_lexer": "ipython3",
   "version": "3.7.3"
  }
 },
 "nbformat": 4,
 "nbformat_minor": 2
}
