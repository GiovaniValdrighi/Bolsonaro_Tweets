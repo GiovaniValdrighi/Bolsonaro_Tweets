{
  "nbformat": 4,
  "nbformat_minor": 0,
  "metadata": {
    "colab": {
      "name": "effects_tweeter_economic_data.ipynb",
      "provenance": [],
      "collapsed_sections": [
        "iK_rzXSNtRul"
      ],
      "toc_visible": true
    },
    "kernelspec": {
      "name": "python3",
      "display_name": "Python 3"
    }
  },
  "cells": [
    {
      "cell_type": "markdown",
      "metadata": {
        "id": "4ZIHoDMRcj5F",
        "colab_type": "text"
      },
      "source": [
        "# Introduction to Data Science\n",
        "\n",
        "Propomos utilizar **Polaridade-Subjetividade**, junto a **Presença-Ausência** de um conjunto de temas em cada Tweet como parte dos preditores; junto a isso, a **Contagem Diária**, **Contagem de Retweets**, **Contagem de Favoritos**, **Data e Horário**, **Presença de Mídias ou Citações**, por exemplo.\n",
        "\n",
        "Propomos ainda usar um fator de retardo $k$ para caracterizar a influencia retardada das postagens. Caso o ajuste significativo ocorra sob um fator $k \\neq 0$, isto é, caso alterções relevantes sejam observadas após as postagens, e com coeficientes significativos, podemos discutir a influencia dos tweets como possível; caso o retardo seja nulo, ou pequeno, podemos discutir a exiestencia de correlação sem causalidade.\n",
        "\n",
        "Ao tratar de séries temporais envolvendo dados financeiros, comumente tratamos a ifluencia de preditores sobre a variação relativa do dados; para isso buscamos predizer os *log-retornos* das variáveis econômicas escolhidas.\n",
        "\n",
        "**Referencias Utilizadas**:\n",
        "  * **Constantin Colonescu**. The Effects of Donald Trump’s Tweets on US Financial and Foreign Exchange Markets. Athens Journal of Business and Economics. Disponível em: www.athensjournals.gr/business/2018-1-X-Y-Colonescu.pdf"
      ]
    },
    {
      "cell_type": "code",
      "metadata": {
        "id": "QBNjQXxpdAGu",
        "colab_type": "code",
        "colab": {}
      },
      "source": [
        "import numpy as np\n",
        "import pandas as pd\n",
        "import matplotlib\n",
        "import matplotlib.pyplot as plt\n",
        "\n",
        "from sklearn.linear_model import LassoCV\n",
        "from sklearn.linear_model import RidgeCV\n",
        "from sklearn.preprocessing import Normalizer\n",
        "from sklearn.preprocessing import PolynomialFeatures\n",
        "from sklearn.decomposition import PCA\n",
        "from sklearn.model_selection import train_test_split\n",
        "\n",
        "%matplotlib inline"
      ],
      "execution_count": 18,
      "outputs": []
    },
    {
      "cell_type": "markdown",
      "metadata": {
        "id": "cvD8umrJjfyo",
        "colab_type": "text"
      },
      "source": [
        "## Preparação dos dados\n",
        "\n",
        "Inclui as etapas de standandização, separação, e agregação segundo diferentes métodos: sob certas hipóteses, podemos agregar os tweets diários pela média, sentimentos extremos, tweet mais curtido ou repostado. Isto é: agregamos diariamente os tweets sob certo método. Considerar o tweet mais repostado, por exemplo, faz sentido sob a suposção de que este será o mais relevante do dia."
      ]
    },
    {
      "cell_type": "code",
      "metadata": {
        "id": "45HEQPAfSUhn",
        "colab_type": "code",
        "colab": {}
      },
      "source": [
        "# read the data\n",
        "tweets_data = pd.read_pickle(\"data/final_tweets_data.pkl\")\n",
        "tweets_data = tweets_data.drop([\"full_text\", \"full_text_en\"], axis=1)\n",
        "economic_data = pd.read_csv(\"data/economic_time_series.csv\", sep=\";\", index_col=0)\n",
        "\n",
        "# chose features and responses\n",
        "responses = ['selic_meta', 'international_reserve','cdi','dollar']\n",
        "economic_data = economic_data[responses]\n",
        "\n",
        "# chose only Bolsonaro tweeter\n",
        "tweets_data = tweets_data[tweets_data.name == \"jairbolsonaro\"]"
      ],
      "execution_count": 2,
      "outputs": []
    },
    {
      "cell_type": "markdown",
      "metadata": {
        "id": "5TDW6VXeSW1P",
        "colab_type": "text"
      },
      "source": [
        "Usamos um formato padrão de datas e ajustamos as séries temporais."
      ]
    },
    {
      "cell_type": "code",
      "metadata": {
        "id": "C30dHi064aOm",
        "colab_type": "code",
        "colab": {}
      },
      "source": [
        "# use standard date format \"datetime\"\n",
        "economic_data.index = pd.to_datetime(economic_data.index)\n",
        "\n",
        "tweets_data[\"date\"]  = tweets_data.year.apply(str) + \"-\"\n",
        "tweets_data[\"date\"] += tweets_data.month.apply(str) + \"-\"\n",
        "tweets_data[\"date\"] += tweets_data.day.apply(str)\n",
        "tweets_data[\"date\"]  = pd.to_datetime(tweets_data[\"date\"])"
      ],
      "execution_count": 3,
      "outputs": []
    },
    {
      "cell_type": "markdown",
      "metadata": {
        "id": "q9XwNmfYwCOa",
        "colab_type": "text"
      },
      "source": [
        "Adicionamos algumas *dummy-variables* convertendo um conjunto de variáveis qualitativas dos preditores em colunas numéricas.\n",
        "\n",
        "Para primeira análise, agregamos alguns dados com relação ao tweet mais favoritado, tomando por hipótese que este será o mais relevante naquele dia. Adicionamos, ainda, novas tabelas agragando o total de retweets do dia, assim como polaridade e subjetividade médias, por exemplo:"
      ]
    },
    {
      "cell_type": "code",
      "metadata": {
        "id": "Vizm3rouwW_J",
        "colab_type": "code",
        "colab": {}
      },
      "source": [
        "# select by data type wich to be made dummy\n",
        "cols_to_strd = [\"user_mentions\", \"hashtags\"]\n",
        "cols_to_dumm = [\"media_type\", \"name\", \"topic\", \"weekday\",\n",
        "                \"year\", \"month\", \"day\", \"hour\", \"minute\"]\n",
        "\n",
        "# add dummies \n",
        "for col in cols_to_dumm:\n",
        "  dummies = pd.get_dummies(tweets_data[col], prefix=col, drop_first=True)\n",
        "  tweets_dayly = pd.concat([tweets_data.drop(col, axis=1), dummies], axis=1)\n",
        "\n",
        "for col in cols_to_strd:\n",
        "  dummies = tweets_data[col].str.get_dummies(\"/\").add_prefix(col)\n",
        "  tweets_dayly = pd.concat([tweets_data.drop(col, axis=1), dummies], axis=1)\n",
        "\n",
        "# agregate the data using mean\n",
        "tweets_dayly = tweets_data.groupby(\"date\", as_index=True).mean()"
      ],
      "execution_count": 4,
      "outputs": []
    },
    {
      "cell_type": "markdown",
      "metadata": {
        "id": "3I61_rxjPTfX",
        "colab_type": "text"
      },
      "source": [
        "Ajustamos as séries temporais no mesmo período de tempo e expressamos os Dados Economicos no formato de log-retornos; esse formato é útil quando estamos interessados no estudo da variação de dados econômicos, por se mostrar uma variável relativa. Isso significa que deve ser possível observar impactos.\n",
        "\n",
        "Finalmente, separamos os dados de treino e teste. Por simplicidade, renomeamos os dados para DTw_train, DTw_test (DTw - Dayly Tweets). Para primeira apresentação, buscamos regredir um simples modelo para o **DOLAR**, em EILR_train, EILR_test (EILR - Economic Index Log Return)\n",
        "; posteriormente, as mesmas tecnicas apresentadas serão utilizadas na discussão dos demais dados."
      ]
    },
    {
      "cell_type": "code",
      "metadata": {
        "id": "gDv0r81jPhOz",
        "colab_type": "code",
        "colab": {}
      },
      "source": [
        "# and express it as a log-return index\n",
        "economic_data_lr = np.log(1 + economic_data.dropna().pct_change())\n",
        "\n",
        "# put tempotal series together\n",
        "data = pd.concat([economic_data_lr, tweets_dayly], axis=1).dropna()"
      ],
      "execution_count": 5,
      "outputs": []
    },
    {
      "cell_type": "code",
      "metadata": {
        "id": "FbFCFFl1w2np",
        "colab_type": "code",
        "colab": {}
      },
      "source": [
        "predictors = tweets_dayly.columns\n",
        "\n",
        "# chose a response economic index as example\n",
        "response = \"dollar\"\n",
        "EILR_data = data[response]\n",
        "DTw_data = data[predictors]\n",
        "\n",
        "# separate train and test data\n",
        "data_train, data_test = train_test_split(data)\n",
        "EILR_train, EILR_test = data_train[response], data_test[response]\n",
        "DTw_train, DTw_test = data_train[predictors], data_test[predictors]\n",
        "\n",
        "# normalize preditors\n",
        "normalizer = Normalizer().fit(DTw_train)\n",
        "DTw_train = pd.DataFrame(normalizer.transform(DTw_train), columns=predictors)\n",
        "DTw_test = pd.DataFrame(normalizer.transform(DTw_test), columns=predictors)\n",
        "DTw_data = pd.DataFrame(normalizer.transform(DTw_test), columns=predictors)"
      ],
      "execution_count": 6,
      "outputs": []
    },
    {
      "cell_type": "markdown",
      "metadata": {
        "id": "1Dfm68_1t9L9",
        "colab_type": "text"
      },
      "source": [
        "## Visualização dos dados: PCA e Sentimento/Reercussão"
      ]
    },
    {
      "cell_type": "markdown",
      "metadata": {
        "id": "q1vay8vMe4dI",
        "colab_type": "text"
      },
      "source": [
        "Buscamos relacionar as principais compenentes com os dados economicos em primeira intancia"
      ]
    },
    {
      "cell_type": "code",
      "metadata": {
        "id": "yPOFYf2ruGAW",
        "colab_type": "code",
        "colab": {
          "base_uri": "https://localhost:8080/",
          "height": 330
        },
        "outputId": "16041332-0115-4991-95e2-33eaae089e05"
      },
      "source": [
        "transformer = PCA(4).fit(DTw_train)\n",
        "print(\"Variancia explicada: \", np.sum(transformer.explained_variance_ratio_))\n",
        "\n",
        "DTw_train_4d = pd.DataFrame(transformer.transform(DTw_train), columns=[0,1,2,3])\n",
        "DTw_test_4d = pd.DataFrame(transformer.transform(DTw_test), columns=[0,1,2,3])\n",
        "DTw_data_4d = pd.DataFrame(transformer.transform(DTw_data), columns=[0,1,2,3])\n",
        "\n",
        "fig, ax = plt.subplots(2,2,figsize=(15,4))\n",
        "\n",
        "for i in range(2):\n",
        "  for j in range(2):\n",
        "    ax[i][j].scatter(DTw_train_4d[i+j*2], EILR_train)\n",
        "    ax[i][j].set_xlabel(\"PCA component {}\".format(i+j*2), fontsize=15)\n",
        "    ax[i][j].set_ylabel(\"Economic Index\", fontsize=15)\n",
        "\n",
        "fig.suptitle(\"PCA Components and Economic Data Log Return\", fontsize=20)\n",
        "fig.subplots_adjust(hspace=0.6)\n",
        "plt.show()"
      ],
      "execution_count": 7,
      "outputs": [
        {
          "output_type": "stream",
          "text": [
            "Variancia explicada:  0.9999842078172774\n"
          ],
          "name": "stdout"
        },
        {
          "output_type": "display_data",
          "data": {
            "image/png": "[encoded data removed]",
            "text/plain": [
              "<Figure size 1080x288 with 4 Axes>"
            ]
          },
          "metadata": {
            "tags": [],
            "needs_background": "light"
          }
        }
      ]
    },
    {
      "cell_type": "markdown",
      "metadata": {
        "id": "ZksfJNDvNrMB",
        "colab_type": "text"
      },
      "source": [
        "Apenas quatro (4) componentes principais dos dados normalizados mostraram explicar mais de 99% da variância dos preditores; no entanto, os gráficos mostram que esse fato não é suficiente: a massa principal de dados aparenta ser fracamente dependente, e se comportam sob uma reta horiontal."
      ]
    },
    {
      "cell_type": "markdown",
      "metadata": {
        "id": "2N-xuVy2fSo4",
        "colab_type": "text"
      },
      "source": [
        "Abaixo, visualizamos a os preditores mais intuitivos, escolhidos com base no modelo da referencia."
      ]
    },
    {
      "cell_type": "code",
      "metadata": {
        "id": "cJgQz6JYVHPd",
        "colab_type": "code",
        "colab": {
          "base_uri": "https://localhost:8080/",
          "height": 314
        },
        "outputId": "8df5e934-d347-4ed9-86b6-a37832c11642"
      },
      "source": [
        "# predictors to be considered\n",
        "sr_predictors = [\"retweet_count\", \"favorite_count\", \"polarity\", \"subjectivity\"]\n",
        "\n",
        "# dayly index\n",
        "fig, ax = plt.subplots(2,2,figsize=(15,4))\n",
        "for i in range(2):\n",
        "  for j in range(2):\n",
        "    col = sr_predictors[i + 2*j]\n",
        "    ax[i][j].scatter(DTw_train[col], EILR_train)\n",
        "    ax[i][j].set_xlabel(col, fontsize=15)\n",
        "    ax[i][j].set_ylabel(\"Index\", fontsize=15)\n",
        "\n",
        "fig.suptitle(\"Sentiment and Repercussion Economic Data Log Return\", fontsize=20)\n",
        "fig.subplots_adjust(hspace=0.6)\n",
        "plt.show()"
      ],
      "execution_count": 8,
      "outputs": [
        {
          "output_type": "display_data",
          "data": {
            "image/png": "[encoded data removed]",
            "text/plain": [
              "<Figure size 1080x288 with 4 Axes>"
            ]
          },
          "metadata": {
            "tags": [],
            "needs_background": "light"
          }
        }
      ]
    },
    {
      "cell_type": "markdown",
      "metadata": {
        "id": "4urYPDWMfe2Y",
        "colab_type": "text"
      },
      "source": [
        "Novamente, os dados não parecem romissores no ajuste de uma modelo polinomial para regressão. Veremos como essa intuição é explicada pela análise posterior."
      ]
    },
    {
      "cell_type": "markdown",
      "metadata": {
        "id": "7pmldjqFlFoR",
        "colab_type": "text"
      },
      "source": [
        "## Ajuste de Modelos, Regularização e *Cross-Validation*\n",
        "\n",
        "Com base no observado anteriormente, buscamos ajustar algumas propostas distintas:\n",
        " \n",
        "  1. Ajustamos um modelo utilizando todos os preditores normalizados utilizando Lasso. Uma vez que queremos um modelo mais simple, é vantajoso favorecer a eliminação de parâmetros em excesso.\n",
        "  2. Ajustamos um modelo utilizando apenas 4 componentes de PCA apresentadas anteriormente.\n",
        "  3. Ajustamos um modelo considerando apenas *sentimento* e *repercussão*, com base na referencia. Aqui, damos preferencia ao modelo regularizado por Ridge, favorecendo manter coeficientes mesmo pouco expressivos.\n"
      ]
    },
    {
      "cell_type": "markdown",
      "metadata": {
        "id": "s0SUK9X9ZJu6",
        "colab_type": "text"
      },
      "source": [
        "### Regressão Utilizando todos os Preditores (não-correlacionados)"
      ]
    },
    {
      "cell_type": "code",
      "metadata": {
        "id": "SBxqElUcZI73",
        "colab_type": "code",
        "colab": {
          "base_uri": "https://localhost:8080/",
          "height": 68
        },
        "outputId": "ae2b70cd-bf07-4bb3-abd4-965947dfc6de"
      },
      "source": [
        "# remove strongly correlated columns\n",
        "corr_mat = DTw_train.corr().abs()\n",
        "corr_upper = corr_mat.where(np.triu(np.ones(corr_mat.shape), k=1).astype(np.bool))\n",
        "to_drop = [col for col in corr_upper.columns if any(corr_upper[col] > 0.85)]\n",
        "\n",
        "DTw_train_decorr = DTw_train.drop(to_drop, axis = 1)\n",
        "DTw_test_decorr = DTw_test.drop(to_drop, axis = 1)\n",
        "\n",
        "# regularization hiperparameters\n",
        "lambdas = np.logspace(-1,4,30)\n",
        "best_model = LassoCV().fit(DTw_train_decorr, EILR_train)\n",
        "\n",
        "# scores for train and test\n",
        "score_train = best_model.score(DTw_train_decorr, EILR_train)\n",
        "score_test = best_model.score(DTw_test_decorr, EILR_test)\n",
        "\n",
        "print(\"Scores\", \"\\ntrain: {}\".format(score_train), \"\\ntest: {}\".format(score_test))"
      ],
      "execution_count": 9,
      "outputs": [
        {
          "output_type": "stream",
          "text": [
            "Scores \n",
            "train: 0.0 \n",
            "test: -0.000633489075324789\n"
          ],
          "name": "stdout"
        }
      ]
    },
    {
      "cell_type": "markdown",
      "metadata": {
        "id": "uSK0MkIYhfW6",
        "colab_type": "text"
      },
      "source": [
        "Obtivemos resultados claramente pouco expressivos. Em média, o modelo utilizado atinge apenas a mesma erfoórmance d o modelo mais simples, utilizando a média dos log-retornos."
      ]
    },
    {
      "cell_type": "markdown",
      "metadata": {
        "id": "j_goWTqauGzj",
        "colab_type": "text"
      },
      "source": [
        "### Regressão utilizando PCA\n",
        "\n",
        "Utilizamos o método bastante semelhante ao anterior, mas neste ponto, interessados em usar apenas quatro preditores obtidos por PCA; estes já não-correlacionados."
      ]
    },
    {
      "cell_type": "code",
      "metadata": {
        "id": "XlQ6DT2eWt1L",
        "colab_type": "code",
        "colab": {
          "base_uri": "https://localhost:8080/",
          "height": 85
        },
        "outputId": "4d5adc15-32cb-44a5-8569-7bcefc930575"
      },
      "source": [
        "# regularization hiperparameters\n",
        "lambdas = np.logspace(-1,4,30)\n",
        "best_model = RidgeCV(alphas=lambdas).fit(DTw_train_4d, EILR_train)\n",
        "\n",
        "\n",
        "# scores for train and test\n",
        "score_train = best_model.score(DTw_train_4d, EILR_train)\n",
        "score_test = best_model.score(DTw_test_4d, EILR_test)\n",
        "\n",
        "print(\"Scores\", \"\\ntrain: {}\".format(score_train), \"\\ntest: {}\".format(score_test))\n",
        "print(\"Coefficients: \", best_model.coef_)"
      ],
      "execution_count": 10,
      "outputs": [
        {
          "output_type": "stream",
          "text": [
            "Scores \n",
            "train: 8.87884817890594e-08 \n",
            "test: -0.0006335192599631334\n",
            "Coefficients:  [-3.39430107e-08  3.02731265e-08 -3.29925494e-07  3.77497675e-09]\n"
          ],
          "name": "stdout"
        }
      ]
    },
    {
      "cell_type": "markdown",
      "metadata": {
        "id": "YmXpK0FsxCbV",
        "colab_type": "text"
      },
      "source": [
        "### Modelo Linear Utilizando *Sentimento* e *Repercussão*\n",
        "\n",
        "Consideramos apenas parâmetros mais simples, relacionados ao sentimento (*Polaridade* e *Positividade*) e popularidade dos tweets (*Contagem de Favoritos* e *Contagem de Retweets*). Novamente, buscamos um simples modelo linear, com base na referencia citada, e na análise exploratória."
      ]
    },
    {
      "cell_type": "code",
      "metadata": {
        "id": "_WFC2UI4g839",
        "colab_type": "code",
        "colab": {
          "base_uri": "https://localhost:8080/",
          "height": 51
        },
        "outputId": "dd5770e1-9956-43fa-c675-9c126c9dd16c"
      },
      "source": [
        "# chose Sentimental and Repercution as predictors\n",
        "DTw_train_sr = DTw_train[sr_predictors]\n",
        "DTw_test_sr = DTw_test[sr_predictors]\n",
        "\n",
        "# remove strongly correlated columns\n",
        "corr_mat = DTw_train_sr.corr().abs()\n",
        "corr_upper = corr_mat.where(np.triu(np.ones(corr_mat.shape), k=1).astype(np.bool))\n",
        "to_drop = [col for col in corr_upper.columns if any(corr_upper[col] > 0.85)]\n",
        "\n",
        "DTw_train_decorr = DTw_train_sr.drop(to_drop, axis = 1)\n",
        "DTw_test_decorr = DTw_test_sr.drop(to_drop, axis = 1)\n",
        "\n",
        "# regularization hiperparameters\n",
        "lambdas = np.logspace(-1,4,30)\n",
        "best_model = RidgeCV(alphas=lambdas).fit(DTw_train_decorr, EILR_train)\n",
        "\n",
        "# scores for train and test\n",
        "score_train = best_model.score(DTw_train_decorr, EILR_train)\n",
        "score_test = best_model.score(DTw_test_decorr, EILR_test)\n",
        "\n",
        "print(\"Scores\", \"train {}\".format(score_train), \"test {}\".format(score_test))\n",
        "print(\"Coefficients: \", best_model.coef_)"
      ],
      "execution_count": 11,
      "outputs": [
        {
          "output_type": "stream",
          "text": [
            "Scores train 3.4179623797925274e-08 test -0.0006335080893811185\n",
            "Coefficients:  [ 2.06645843e-07 -4.84404129e-11 -9.95585478e-11]\n"
          ],
          "name": "stdout"
        }
      ]
    },
    {
      "cell_type": "markdown",
      "metadata": {
        "id": "B5wDtoE4lRcE",
        "colab_type": "text"
      },
      "source": [
        "Obtivemos coeficientes pouco significativos em primeira análise, em comparação com o obtido em PCA, especialmente para os dados relacionaods a popularidade das postagens, em que obtivemos coeficientes desprezíveis; ao mesmo tempo, o modelo apresenta um ajuste ruim aos dados de treino. Esse fato deverá ser discutido logo mais."
      ]
    },
    {
      "cell_type": "markdown",
      "metadata": {
        "id": "uSkFdfRxr5Lw",
        "colab_type": "text"
      },
      "source": [
        "### Modelo com PCA utilizando retardo\n",
        "\n",
        "Discutimos um último modelo, em que utilizamos as *features* mais promissoras, adicionando retardo, como proposto inicialmente. Os resultados para tentativas utilzando o mesmo método de regressão linear anterior com retardo $k \\in \\{0,...,30\\}$ dias são apresentados logo  mais.\n"
      ]
    },
    {
      "cell_type": "code",
      "metadata": {
        "id": "4yLUs0LNA1io",
        "colab_type": "code",
        "colab": {}
      },
      "source": [
        "# function to delay predictor in days \n",
        "def add_delay(X, y, X_comp, y_comp, delay):\n",
        "  \"\"\"\n",
        "  canges indexes by delay in days\n",
        "    X_, y_: data to be delayed\n",
        "    X_comp, y_comp: complete data\n",
        "    delay: time in days to be delayed\n",
        "  \"\"\"\n",
        "  indexes = [i for i in X.index - delay if i in X_comp.index]\n",
        "  X_ = X_comp.iloc[indexes].dropna()\n",
        "  y_ = y[(X.index - delay).isin(indexes)]\n",
        "\n",
        "  return X_, y_"
      ],
      "execution_count": 12,
      "outputs": []
    },
    {
      "cell_type": "code",
      "metadata": {
        "id": "dkxDNE6FA1fj",
        "colab_type": "code",
        "colab": {}
      },
      "source": [
        "# Chose best polynomial degree\n",
        "def chose_degree(X_train, y_train, lambdas, max_poly_degre):\n",
        "  \"\"\"\n",
        "  Chose best polynomial degree using mean score\n",
        "    X_train, y_train: train data to be used in adjust\n",
        "    max_poly_degre: max polynomial degree to be used\n",
        "  \"\"\"\n",
        "  best_score = -1000; best_degree = 0\n",
        "  \n",
        "  # polynomial features\n",
        "  for k in range(1, max_poly_degre + 1):\n",
        "    X_poly = PolynomialFeatures(k).fit_transform(X_train)\n",
        "    best_model = RidgeCV(alphas=lambdas).fit(X_train, y_train)\n",
        "    score = best_model.score(X_train, y_train)\n",
        "    \n",
        "    if score > best_score:\n",
        "      best_score = score; best_degree = k\n",
        "\n",
        "  return best_degree"
      ],
      "execution_count": 13,
      "outputs": []
    },
    {
      "cell_type": "code",
      "metadata": {
        "id": "rvB3irifshus",
        "colab_type": "code",
        "colab": {}
      },
      "source": [
        "# regression function to ajust polynomial models\n",
        "def pca_poly_delay_adjust(X_train, y_train, X_test, y_test,\n",
        "                          X_data, y_data, lambdas, N_days, max_poly_degre):\n",
        "  \"\"\"\n",
        "  Adjusts a series of models and \n",
        "    X_train, y_train: train data\n",
        "    X_test, y_test: test data\n",
        "    X_data, y_data: complete data to use in delay\n",
        "    lambdas:  regularization hiperparameters\n",
        "    N_days: number of days to adjust delay models\n",
        "    max_poly_degre: max polynomial degree to use\n",
        "  \"\"\"\n",
        "\n",
        "  # dictionary with delays results\n",
        "  results = []\n",
        "\n",
        "  # adjusts models to data with delays \n",
        "  for delay in range(N_days):\n",
        "    # adds delay\n",
        "    X_train_, y_train_ = add_delay(X_train, y_train, X_data, y_data, delay)\n",
        "    X_test_, y_test_ = add_delay(X_test, y_test, X_data, y_data, delay)\n",
        "\n",
        "    # regularization\n",
        "    best_degree = chose_degree(X_train_, y_train_, lambdas, max_poly_degre)\n",
        "    \n",
        "    # adjusts model and evals scores obtained with best model\n",
        "    X_train_poly = PolynomialFeatures(best_degree).fit_transform(X_train_)\n",
        "    best_model = RidgeCV(alphas=lambdas).fit(X_train_poly, y_train_)\n",
        "\n",
        "    score_train = best_model.score(X_train_poly, y_train_)\n",
        "    X_test_poly = PolynomialFeatures(best_degree).fit_transform(X_test_)\n",
        "    score_test = best_model.score(X_test_poly, y_test_)\n",
        " \n",
        "    results.append({\"delay\": delay, \"train\": score_train,\n",
        "                    \"test\": score_test, \"degree\": best_degree})\n",
        "  \n",
        "  return results"
      ],
      "execution_count": 14,
      "outputs": []
    },
    {
      "cell_type": "markdown",
      "metadata": {
        "id": "UjFJRI3G7TcT",
        "colab_type": "text"
      },
      "source": [
        "Abaixo, executamos a função responsável por ajustar um modelo polinomial utilizanado PCA, com base no melhor resultado obtido nos modelos anteriores. O algoritmo busca pela melhor cobinação entre coeficiente de regularização e grau polinomial utilizando *cross-validation*, introduzindo retardo."
      ]
    },
    {
      "cell_type": "code",
      "metadata": {
        "id": "5RyAHSu1xIi_",
        "colab_type": "code",
        "colab": {
          "base_uri": "https://localhost:8080/",
          "height": 204
        },
        "outputId": "39e61f78-86b4-481b-e831-209ad28bb7fe"
      },
      "source": [
        "# apply function\n",
        "lambdas = np.logspace(-1,4,30)\n",
        "results = pca_poly_delay_adjust(DTw_train_4d, EILR_train, DTw_test_4d,\n",
        "                                EILR_test, DTw_data_4d, EILR_data, lambdas, 30, 3)\n",
        "\n",
        "# look at the four best results in train\n",
        "results = pd.DataFrame(results)\n",
        "results[\"response\"] = \"Dolar\"\n",
        "results.sort_values(by = \"train\", ascending=False).head()"
      ],
      "execution_count": 15,
      "outputs": [
        {
          "output_type": "execute_result",
          "data": {
            "text/html": [
              "<div>\n",
              "<style scoped>\n",
              "    .dataframe tbody tr th:only-of-type {\n",
              "        vertical-align: middle;\n",
              "    }\n",
              "\n",
              "    .dataframe tbody tr th {\n",
              "        vertical-align: top;\n",
              "    }\n",
              "\n",
              "    .dataframe thead th {\n",
              "        text-align: right;\n",
              "    }\n",
              "</style>\n",
              "<table border=\"1\" class=\"dataframe\">\n",
              "  <thead>\n",
              "    <tr style=\"text-align: right;\">\n",
              "      <th></th>\n",
              "      <th>delay</th>\n",
              "      <th>train</th>\n",
              "      <th>test</th>\n",
              "      <th>degree</th>\n",
              "      <th>response</th>\n",
              "    </tr>\n",
              "  </thead>\n",
              "  <tbody>\n",
              "    <tr>\n",
              "      <th>6</th>\n",
              "      <td>6</td>\n",
              "      <td>0.036832</td>\n",
              "      <td>0.006322</td>\n",
              "      <td>1</td>\n",
              "      <td>Dolar</td>\n",
              "    </tr>\n",
              "    <tr>\n",
              "      <th>18</th>\n",
              "      <td>18</td>\n",
              "      <td>0.036267</td>\n",
              "      <td>0.044895</td>\n",
              "      <td>1</td>\n",
              "      <td>Dolar</td>\n",
              "    </tr>\n",
              "    <tr>\n",
              "      <th>21</th>\n",
              "      <td>21</td>\n",
              "      <td>0.034306</td>\n",
              "      <td>-0.057057</td>\n",
              "      <td>1</td>\n",
              "      <td>Dolar</td>\n",
              "    </tr>\n",
              "    <tr>\n",
              "      <th>7</th>\n",
              "      <td>7</td>\n",
              "      <td>0.001337</td>\n",
              "      <td>0.000336</td>\n",
              "      <td>1</td>\n",
              "      <td>Dolar</td>\n",
              "    </tr>\n",
              "    <tr>\n",
              "      <th>10</th>\n",
              "      <td>10</td>\n",
              "      <td>0.001237</td>\n",
              "      <td>-0.002502</td>\n",
              "      <td>1</td>\n",
              "      <td>Dolar</td>\n",
              "    </tr>\n",
              "  </tbody>\n",
              "</table>\n",
              "</div>"
            ],
            "text/plain": [
              "    delay     train      test  degree response\n",
              "6       6  0.036832  0.006322       1    Dolar\n",
              "18     18  0.036267  0.044895       1    Dolar\n",
              "21     21  0.034306 -0.057057       1    Dolar\n",
              "7       7  0.001337  0.000336       1    Dolar\n",
              "10     10  0.001237 -0.002502       1    Dolar"
            ]
          },
          "metadata": {
            "tags": []
          },
          "execution_count": 15
        }
      ]
    },
    {
      "cell_type": "markdown",
      "metadata": {
        "id": "iK_rzXSNtRul",
        "colab_type": "text"
      },
      "source": [
        "Os testes mostraram dificudade em prever com razoavel precisão os dados reais do mercado com base apenas nos Tweeters da Família presidencial; de fato, os resultados dos diferentes modelos propostos é tão significante quanto o uso da média global dos log-retornos, isto é, não obtiveram perfórmance suficente para justificálos!"
      ]
    },
    {
      "cell_type": "markdown",
      "metadata": {
        "id": "LJyP7qjKt5mc",
        "colab_type": "text"
      },
      "source": [
        "## Resultados\n",
        "\n",
        "Finalmente, após propor o modelo mais geral acima, analizamos os resultados com os demais indicadores; para cada, apresentamos os 4 melhores resultados obtidos."
      ]
    },
    {
      "cell_type": "code",
      "metadata": {
        "id": "xpqMHlsrr23K",
        "colab_type": "code",
        "colab": {}
      },
      "source": [
        "# response variables to be tested\n",
        "responses = ['selic_meta','international_reserve','cdi','dollar']\n",
        "\n",
        "# iterate response variables and collects the results\n",
        "all_results = []\n",
        "\n",
        "for response in responses:\n",
        "  y = data[response]\n",
        "  y_train = data_train.iloc[DTw_train_4d.index]\n",
        "  y_test = data_test.iloc[DTw_test_4d.index]\n",
        "  X = DTw_data_4d\n",
        "  X_train = DTw_train_4d\n",
        "  X_test = DTw_test_4d\n",
        "  \n",
        "\n",
        "  results = pca_poly_delay_adjust(X_train, y_train, X_test, y_test, X, y, lambdas, 30, 3)\n",
        "  for i in range(len(results)): results[i][\"response\"] = response\n",
        "  results.sort(key = lambda x: x[\"test\"], reverse=True)\n",
        "\n",
        "  all_results = np.append(all_results, results[0:4])"
      ],
      "execution_count": 16,
      "outputs": []
    },
    {
      "cell_type": "markdown",
      "metadata": {
        "id": "csbQgnYx9H_N",
        "colab_type": "text"
      },
      "source": [
        "Apresentamos os melhores resultados para as variáveis de resposta escolhidas. Embora sejam os melhors, ainda é notável como são pouco representativos."
      ]
    },
    {
      "cell_type": "code",
      "metadata": {
        "id": "FEN-97TF1WKU",
        "colab_type": "code",
        "colab": {
          "base_uri": "https://localhost:8080/",
          "height": 576
        },
        "outputId": "c1a80f41-da4a-4629-ad98-2b81296a4399"
      },
      "source": [
        "results_table = pd.DataFrame(list(all_results))\n",
        "results_table.set_index(\"response\")"
      ],
      "execution_count": 17,
      "outputs": [
        {
          "output_type": "execute_result",
          "data": {
            "text/html": [
              "<div>\n",
              "<style scoped>\n",
              "    .dataframe tbody tr th:only-of-type {\n",
              "        vertical-align: middle;\n",
              "    }\n",
              "\n",
              "    .dataframe tbody tr th {\n",
              "        vertical-align: top;\n",
              "    }\n",
              "\n",
              "    .dataframe thead th {\n",
              "        text-align: right;\n",
              "    }\n",
              "</style>\n",
              "<table border=\"1\" class=\"dataframe\">\n",
              "  <thead>\n",
              "    <tr style=\"text-align: right;\">\n",
              "      <th></th>\n",
              "      <th>delay</th>\n",
              "      <th>train</th>\n",
              "      <th>test</th>\n",
              "      <th>degree</th>\n",
              "    </tr>\n",
              "    <tr>\n",
              "      <th>response</th>\n",
              "      <th></th>\n",
              "      <th></th>\n",
              "      <th></th>\n",
              "      <th></th>\n",
              "    </tr>\n",
              "  </thead>\n",
              "  <tbody>\n",
              "    <tr>\n",
              "      <th>selic_meta</th>\n",
              "      <td>24</td>\n",
              "      <td>3.597577e-07</td>\n",
              "      <td>-0.000764</td>\n",
              "      <td>1</td>\n",
              "    </tr>\n",
              "    <tr>\n",
              "      <th>selic_meta</th>\n",
              "      <td>23</td>\n",
              "      <td>7.945337e-08</td>\n",
              "      <td>-0.000783</td>\n",
              "      <td>1</td>\n",
              "    </tr>\n",
              "    <tr>\n",
              "      <th>selic_meta</th>\n",
              "      <td>22</td>\n",
              "      <td>3.368667e-08</td>\n",
              "      <td>-0.000944</td>\n",
              "      <td>1</td>\n",
              "    </tr>\n",
              "    <tr>\n",
              "      <th>selic_meta</th>\n",
              "      <td>25</td>\n",
              "      <td>5.602821e-07</td>\n",
              "      <td>-0.003876</td>\n",
              "      <td>1</td>\n",
              "    </tr>\n",
              "    <tr>\n",
              "      <th>international_reserve</th>\n",
              "      <td>24</td>\n",
              "      <td>3.597577e-07</td>\n",
              "      <td>-0.000764</td>\n",
              "      <td>1</td>\n",
              "    </tr>\n",
              "    <tr>\n",
              "      <th>international_reserve</th>\n",
              "      <td>23</td>\n",
              "      <td>7.945337e-08</td>\n",
              "      <td>-0.000783</td>\n",
              "      <td>1</td>\n",
              "    </tr>\n",
              "    <tr>\n",
              "      <th>international_reserve</th>\n",
              "      <td>22</td>\n",
              "      <td>3.368667e-08</td>\n",
              "      <td>-0.000944</td>\n",
              "      <td>1</td>\n",
              "    </tr>\n",
              "    <tr>\n",
              "      <th>international_reserve</th>\n",
              "      <td>25</td>\n",
              "      <td>5.602821e-07</td>\n",
              "      <td>-0.003876</td>\n",
              "      <td>1</td>\n",
              "    </tr>\n",
              "    <tr>\n",
              "      <th>cdi</th>\n",
              "      <td>24</td>\n",
              "      <td>3.597577e-07</td>\n",
              "      <td>-0.000764</td>\n",
              "      <td>1</td>\n",
              "    </tr>\n",
              "    <tr>\n",
              "      <th>cdi</th>\n",
              "      <td>23</td>\n",
              "      <td>7.945337e-08</td>\n",
              "      <td>-0.000783</td>\n",
              "      <td>1</td>\n",
              "    </tr>\n",
              "    <tr>\n",
              "      <th>cdi</th>\n",
              "      <td>22</td>\n",
              "      <td>3.368667e-08</td>\n",
              "      <td>-0.000944</td>\n",
              "      <td>1</td>\n",
              "    </tr>\n",
              "    <tr>\n",
              "      <th>cdi</th>\n",
              "      <td>25</td>\n",
              "      <td>5.602821e-07</td>\n",
              "      <td>-0.003876</td>\n",
              "      <td>1</td>\n",
              "    </tr>\n",
              "    <tr>\n",
              "      <th>dollar</th>\n",
              "      <td>24</td>\n",
              "      <td>3.597577e-07</td>\n",
              "      <td>-0.000764</td>\n",
              "      <td>1</td>\n",
              "    </tr>\n",
              "    <tr>\n",
              "      <th>dollar</th>\n",
              "      <td>23</td>\n",
              "      <td>7.945337e-08</td>\n",
              "      <td>-0.000783</td>\n",
              "      <td>1</td>\n",
              "    </tr>\n",
              "    <tr>\n",
              "      <th>dollar</th>\n",
              "      <td>22</td>\n",
              "      <td>3.368667e-08</td>\n",
              "      <td>-0.000944</td>\n",
              "      <td>1</td>\n",
              "    </tr>\n",
              "    <tr>\n",
              "      <th>dollar</th>\n",
              "      <td>25</td>\n",
              "      <td>5.602821e-07</td>\n",
              "      <td>-0.003876</td>\n",
              "      <td>1</td>\n",
              "    </tr>\n",
              "  </tbody>\n",
              "</table>\n",
              "</div>"
            ],
            "text/plain": [
              "                       delay         train      test  degree\n",
              "response                                                    \n",
              "selic_meta                24  3.597577e-07 -0.000764       1\n",
              "selic_meta                23  7.945337e-08 -0.000783       1\n",
              "selic_meta                22  3.368667e-08 -0.000944       1\n",
              "selic_meta                25  5.602821e-07 -0.003876       1\n",
              "international_reserve     24  3.597577e-07 -0.000764       1\n",
              "international_reserve     23  7.945337e-08 -0.000783       1\n",
              "international_reserve     22  3.368667e-08 -0.000944       1\n",
              "international_reserve     25  5.602821e-07 -0.003876       1\n",
              "cdi                       24  3.597577e-07 -0.000764       1\n",
              "cdi                       23  7.945337e-08 -0.000783       1\n",
              "cdi                       22  3.368667e-08 -0.000944       1\n",
              "cdi                       25  5.602821e-07 -0.003876       1\n",
              "dollar                    24  3.597577e-07 -0.000764       1\n",
              "dollar                    23  7.945337e-08 -0.000783       1\n",
              "dollar                    22  3.368667e-08 -0.000944       1\n",
              "dollar                    25  5.602821e-07 -0.003876       1"
            ]
          },
          "metadata": {
            "tags": []
          },
          "execution_count": 17
        }
      ]
    },
    {
      "cell_type": "markdown",
      "metadata": {
        "id": "mkwiZ23g9cnf",
        "colab_type": "text"
      },
      "source": [
        "Portanto, observamos que pode ser extremamente difíci apresentar um modelo capaz de prever, ou ter um ajuste razoável aos retornos dos indicadores economicos apresentados até então utilizando apenas os dados de Tweeter da família do presidente.\n",
        "\n",
        "Nesse sentido, apresentaoms uma proposta com a hipótese enfraquecida. Embora não possamos prever a magnitude das variações dos índies do mercado, talvez seja possível predizer o aumento ou queda correlacionada aos tweets da família bolsonaro utilizando um modelo de classificação.\n"
      ]
    }
  ]
}